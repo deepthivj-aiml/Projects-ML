{
  "nbformat": 4,
  "nbformat_minor": 0,
  "metadata": {
    "colab": {
      "name": "Copy of Copy of Copy of Urban Sound Classification.ipynb",
      "provenance": [],
      "collapsed_sections": [],
      "toc_visible": true
    },
    "kernelspec": {
      "name": "python3",
      "display_name": "Python 3"
    },
    "accelerator": "GPU"
  },
  "cells": [
    {
      "cell_type": "code",
      "metadata": {
        "id": "1iT8SYOSt9kp",
        "colab_type": "code",
        "outputId": "e93f9dc1-fc45-4ec0-a888-ebb969ef22b8",
        "colab": {
          "base_uri": "https://localhost:8080/",
          "height": 386
        }
      },
      "source": [
        "#Downloading the Datasets\n",
        "!wget --no-check-certificate \\\n",
        "      \"https://datahack-prod.s3.amazonaws.com/train_file/train_fuSp8nd.csv\"\\\n",
        "      -O \"/tmp/train.csv\"\n",
        "\n",
        "!wget --no-check-certificate \\\n",
        "      \"https://datahack-prod.s3.amazonaws.com/test_file/test_B0QdNpj.csv\"\\\n",
        "      -O \"/tmp/test.csv\""
      ],
      "execution_count": 0,
      "outputs": [
        {
          "output_type": "stream",
          "text": [
            "--2020-04-25 18:10:55--  https://datahack-prod.s3.amazonaws.com/train_file/train_fuSp8nd.csv\n",
            "Resolving datahack-prod.s3.amazonaws.com (datahack-prod.s3.amazonaws.com)... 52.219.62.96\n",
            "Connecting to datahack-prod.s3.amazonaws.com (datahack-prod.s3.amazonaws.com)|52.219.62.96|:443... connected.\n",
            "HTTP request sent, awaiting response... 200 OK\n",
            "Length: 94844 (93K) [text/csv]\n",
            "Saving to: ‘/tmp/train.csv’\n",
            "\n",
            "/tmp/train.csv      100%[===================>]  92.62K   133KB/s    in 0.7s    \n",
            "\n",
            "2020-04-25 18:10:57 (133 KB/s) - ‘/tmp/train.csv’ saved [94844/94844]\n",
            "\n",
            "--2020-04-25 18:10:59--  https://datahack-prod.s3.amazonaws.com/test_file/test_B0QdNpj.csv\n",
            "Resolving datahack-prod.s3.amazonaws.com (datahack-prod.s3.amazonaws.com)... 52.219.66.108\n",
            "Connecting to datahack-prod.s3.amazonaws.com (datahack-prod.s3.amazonaws.com)|52.219.66.108|:443... connected.\n",
            "HTTP request sent, awaiting response... 200 OK\n",
            "Length: 19402 (19K) [text/csv]\n",
            "Saving to: ‘/tmp/test.csv’\n",
            "\n",
            "/tmp/test.csv       100%[===================>]  18.95K  79.5KB/s    in 0.2s    \n",
            "\n",
            "2020-04-25 18:11:00 (79.5 KB/s) - ‘/tmp/test.csv’ saved [19402/19402]\n",
            "\n"
          ],
          "name": "stdout"
        }
      ]
    },
    {
      "cell_type": "code",
      "metadata": {
        "id": "uNLYRkliuHfQ",
        "colab_type": "code",
        "outputId": "96514320-2cf4-47d2-8aa2-3753438df9e1",
        "colab": {
          "base_uri": "https://localhost:8080/",
          "height": 122
        }
      },
      "source": [
        "from google.colab import drive\n",
        "drive.mount('/content/drive')"
      ],
      "execution_count": 0,
      "outputs": [
        {
          "output_type": "stream",
          "text": [
            "Go to this URL in a browser: https://accounts.google.com/o/oauth2/auth?client_id=947318989803-6bn6qk8qdgf4n4g3pfee6491hc0brc4i.apps.googleusercontent.com&redirect_uri=urn%3aietf%3awg%3aoauth%3a2.0%3aoob&response_type=code&scope=email%20https%3a%2f%2fwww.googleapis.com%2fauth%2fdocs.test%20https%3a%2f%2fwww.googleapis.com%2fauth%2fdrive%20https%3a%2f%2fwww.googleapis.com%2fauth%2fdrive.photos.readonly%20https%3a%2f%2fwww.googleapis.com%2fauth%2fpeopleapi.readonly\n",
            "\n",
            "Enter your authorization code:\n",
            "··········\n",
            "Mounted at /content/drive\n"
          ],
          "name": "stdout"
        }
      ]
    },
    {
      "cell_type": "code",
      "metadata": {
        "id": "hM7PAFY6uZZ6",
        "colab_type": "code",
        "colab": {}
      },
      "source": [
        "#I have downloaded the data to my Google Drive. Unzipping the train and test folders containing the audio\n",
        "import os\n",
        "import zipfile\n",
        "\n",
        "local_zip='/content/drive/My Drive/train2.zip'\n",
        "zip_ref=zipfile.ZipFile(local_zip,'r')\n",
        "zip_ref.extractall('/tmp/trainlast')\n",
        "zip_ref.close()\n",
        "\n",
        "\n",
        "local_zip='/content/drive/My Drive/test1.zip'\n",
        "zip_ref=zipfile.ZipFile(local_zip,'r')\n",
        "zip_ref.extractall('/tmp/testlast')\n",
        "zip_ref.close()\n"
      ],
      "execution_count": 0,
      "outputs": []
    },
    {
      "cell_type": "code",
      "metadata": {
        "id": "ccPA1jO2x5Lv",
        "colab_type": "code",
        "colab": {}
      },
      "source": [
        "#Importing the csv files that contains the labels of the sounds\n",
        "import pandas as pd\n",
        "train=pd.read_csv('/tmp/trainlast/train.csv')\n",
        "test=pd.read_csv('/tmp/testlast/test.csv')"
      ],
      "execution_count": 0,
      "outputs": []
    },
    {
      "cell_type": "code",
      "metadata": {
        "id": "il52gcx0zPbk",
        "colab_type": "code",
        "outputId": "66b1fad1-b87b-47cb-8aeb-b8c2dd0c97b7",
        "colab": {
          "base_uri": "https://localhost:8080/",
          "height": 204
        }
      },
      "source": [
        "train.tail(5)"
      ],
      "execution_count": 0,
      "outputs": [
        {
          "output_type": "execute_result",
          "data": {
            "text/html": [
              "<div>\n",
              "<style scoped>\n",
              "    .dataframe tbody tr th:only-of-type {\n",
              "        vertical-align: middle;\n",
              "    }\n",
              "\n",
              "    .dataframe tbody tr th {\n",
              "        vertical-align: top;\n",
              "    }\n",
              "\n",
              "    .dataframe thead th {\n",
              "        text-align: right;\n",
              "    }\n",
              "</style>\n",
              "<table border=\"1\" class=\"dataframe\">\n",
              "  <thead>\n",
              "    <tr style=\"text-align: right;\">\n",
              "      <th></th>\n",
              "      <th>ID</th>\n",
              "      <th>Class</th>\n",
              "    </tr>\n",
              "  </thead>\n",
              "  <tbody>\n",
              "    <tr>\n",
              "      <th>5430</th>\n",
              "      <td>8725</td>\n",
              "      <td>engine_idling</td>\n",
              "    </tr>\n",
              "    <tr>\n",
              "      <th>5431</th>\n",
              "      <td>8726</td>\n",
              "      <td>dog_bark</td>\n",
              "    </tr>\n",
              "    <tr>\n",
              "      <th>5432</th>\n",
              "      <td>8727</td>\n",
              "      <td>engine_idling</td>\n",
              "    </tr>\n",
              "    <tr>\n",
              "      <th>5433</th>\n",
              "      <td>8728</td>\n",
              "      <td>engine_idling</td>\n",
              "    </tr>\n",
              "    <tr>\n",
              "      <th>5434</th>\n",
              "      <td>8729</td>\n",
              "      <td>air_conditioner</td>\n",
              "    </tr>\n",
              "  </tbody>\n",
              "</table>\n",
              "</div>"
            ],
            "text/plain": [
              "        ID            Class\n",
              "5430  8725    engine_idling\n",
              "5431  8726         dog_bark\n",
              "5432  8727    engine_idling\n",
              "5433  8728    engine_idling\n",
              "5434  8729  air_conditioner"
            ]
          },
          "metadata": {
            "tags": []
          },
          "execution_count": 4
        }
      ]
    },
    {
      "cell_type": "code",
      "metadata": {
        "id": "_hPcIfAxzlbx",
        "colab_type": "code",
        "outputId": "83df81be-2182-4c20-bbb8-b8bcd7913dc6",
        "colab": {
          "base_uri": "https://localhost:8080/",
          "height": 571
        }
      },
      "source": [
        "#Class Distribution\n",
        "train['Class'].value_counts()\n",
        "import numpy as np\n",
        "import matplotlib.pyplot as plt\n",
        "plt.bar(train['Class'].value_counts().index, train['Class'].value_counts(), width=0.5, bottom=None, align='center', data=train)\n",
        "plt.title('Class Distribution')\n",
        "plt.xticks(rotation='vertical')\n",
        "plt.xlabel('Class')\n",
        "plt.ylabel('Frequency')\n",
        "print('Class Distribution:\\n',train['Class'].value_counts())"
      ],
      "execution_count": 0,
      "outputs": [
        {
          "output_type": "stream",
          "text": [
            "Class Distribution:\n",
            " jackhammer          668\n",
            "engine_idling       624\n",
            "siren               607\n",
            "dog_bark            600\n",
            "children_playing    600\n",
            "drilling            600\n",
            "street_music        600\n",
            "air_conditioner     600\n",
            "car_horn            306\n",
            "gun_shot            230\n",
            "Name: Class, dtype: int64\n"
          ],
          "name": "stdout"
        },
        {
          "output_type": "display_data",
          "data": {
            "image/png": "[encoded data removed]",
            "text/plain": [
              "<Figure size 432x288 with 1 Axes>"
            ]
          },
          "metadata": {
            "tags": [],
            "needs_background": "light"
          }
        }
      ]
    },
    {
      "cell_type": "code",
      "metadata": {
        "id": "E843QWs7okRV",
        "colab_type": "code",
        "outputId": "a9a0ed44-980e-482e-8bf6-c8bbb84de2b6",
        "colab": {
          "base_uri": "https://localhost:8080/",
          "height": 1000
        }
      },
      "source": [
        "#Let's visualize the sound files of different classes\n",
        "Classes=['jackhammer','engine_idling','siren','children_playing','drilling','street_music','air_conditioner','dog_bark','car_horn','gun_shot']\n",
        "\n",
        "import librosa\n",
        "import librosa.display\n",
        "import random\n",
        "\n",
        "def get_index(c): #function to randomize the index of the classes\n",
        "  return random.choice(train.loc[train.Class==c].index)\n",
        "\n",
        "for i in range(len(Classes)):\n",
        "  j=get_index(Classes[i])\n",
        "  x, sr = librosa.load('/tmp/trainlast/Train/' + str(train.ID[j]) + '.wav')\n",
        "\n",
        "  plt.figure(figsize=(6, 4))\n",
        "  librosa.display.waveplot(x, sr=sr)\n",
        "  plt.ylabel('Amplitude')\n",
        "  plt.title(train.Class[j])\n",
        "  plt.pause(0.05)\n",
        "\n",
        "\n",
        "  \n",
        "plt.show()"
      ],
      "execution_count": 0,
      "outputs": [
        {
          "output_type": "display_data",
          "data": {
            "image/png": "[encoded data removed]",
            "text/plain": [
              "<Figure size 432x288 with 1 Axes>"
            ]
          },
          "metadata": {
            "tags": [],
            "needs_background": "light"
          }
        },
        {
          "output_type": "display_data",
          "data": {
            "image/png": "[encoded data removed]",
            "text/plain": [
              "<Figure size 432x288 with 1 Axes>"
            ]
          },
          "metadata": {
            "tags": [],
            "needs_background": "light"
          }
        },
        {
          "output_type": "display_data",
          "data": {
            "image/png": "[encoded data removed]",
            "text/plain": [
              "<Figure size 432x288 with 1 Axes>"
            ]
          },
          "metadata": {
            "tags": [],
            "needs_background": "light"
          }
        },
        {
          "output_type": "display_data",
          "data": {
            "image/png": "[encoded data removed]",
            "text/plain": [
              "<Figure size 432x288 with 1 Axes>"
            ]
          },
          "metadata": {
            "tags": [],
            "needs_background": "light"
          }
        },
        {
          "output_type": "display_data",
          "data": {
            "image/png": "[encoded data removed]",
            "text/plain": [
              "<Figure size 432x288 with 1 Axes>"
            ]
          },
          "metadata": {
            "tags": [],
            "needs_background": "light"
          }
        },
        {
          "output_type": "display_data",
          "data": {
            "image/png": "[encoded data removed]",
            "text/plain": [
              "<Figure size 432x288 with 1 Axes>"
            ]
          },
          "metadata": {
            "tags": [],
            "needs_background": "light"
          }
        },
        {
          "output_type": "display_data",
          "data": {
            "image/png": "[encoded data removed]",
            "text/plain": [
              "<Figure size 432x288 with 1 Axes>"
            ]
          },
          "metadata": {
            "tags": [],
            "needs_background": "light"
          }
        },
        {
          "output_type": "display_data",
          "data": {
            "image/png": "[encoded data removed]",
            "text/plain": [
              "<Figure size 432x288 with 1 Axes>"
            ]
          },
          "metadata": {
            "tags": [],
            "needs_background": "light"
          }
        },
        {
          "output_type": "display_data",
          "data": {
            "image/png": "[encoded data removed]",
            "text/plain": [
              "<Figure size 432x288 with 1 Axes>"
            ]
          },
          "metadata": {
            "tags": [],
            "needs_background": "light"
          }
        },
        {
          "output_type": "display_data",
          "data": {
            "image/png": "[encoded data removed]",
            "text/plain": [
              "<Figure size 432x288 with 1 Axes>"
            ]
          },
          "metadata": {
            "tags": [],
            "needs_background": "light"
          }
        }
      ]
    },
    {
      "cell_type": "code",
      "metadata": {
        "id": "-FKzCGEIsV94",
        "colab_type": "code",
        "colab": {}
      },
      "source": [
        "#getting the features and labels of audios in the train set\n",
        "features=[]\n",
        "labels=[]\n",
        "for i in range(len(train)):\n",
        "  filename='/tmp/trainlast/Train/' + str(train.ID[i]) + '.wav'\n",
        "  x, sample_rate = librosa.load(filename, res_type='kaiser_fast') \n",
        "  features.append(np.mean(librosa.feature.mfcc(x, sr=sample_rate, n_mfcc=40).T,axis=0))\n",
        "  labels.append(train.Class[i])\n"
      ],
      "execution_count": 0,
      "outputs": []
    },
    {
      "cell_type": "code",
      "metadata": {
        "id": "C3E0Poko9neH",
        "colab_type": "code",
        "colab": {}
      },
      "source": [
        "#getting the features of audios in the test set\n",
        "features_test=[]\n",
        "labels1=[]\n",
        "for i in range(len(test)):\n",
        "  filename='/tmp/testlast/Test/' + str(test.ID[i]) + '.wav'\n",
        "  x, sample_rate = librosa.load(filename, res_type='kaiser_fast') \n",
        "  features_test.append(np.mean(librosa.feature.mfcc(x, sr=sample_rate, n_mfcc=40).T,axis=0))"
      ],
      "execution_count": 0,
      "outputs": []
    },
    {
      "cell_type": "code",
      "metadata": {
        "id": "oloeX3fw2_en",
        "colab_type": "code",
        "outputId": "408e180d-4920-449d-ad7a-4922bcf34f10",
        "colab": {
          "base_uri": "https://localhost:8080/",
          "height": 34
        }
      },
      "source": [
        "#converting the audio features to numpy array\n",
        "x=np.array(features)\n",
        "x_test=np.array(features_test)\n",
        "\n",
        "#encoding the labels\n",
        "from sklearn.preprocessing import LabelEncoder\n",
        "from keras.utils import to_categorical\n",
        "\n",
        "le = LabelEncoder()\n",
        "y = to_categorical(le.fit_transform(labels)) "
      ],
      "execution_count": 0,
      "outputs": [
        {
          "output_type": "stream",
          "text": [
            "Using TensorFlow backend.\n"
          ],
          "name": "stderr"
        }
      ]
    },
    {
      "cell_type": "code",
      "metadata": {
        "id": "YzyqX4-3-OE_",
        "colab_type": "code",
        "outputId": "d884d6b5-8778-4bf3-a2e1-e0ebd38cccd3",
        "colab": {
          "base_uri": "https://localhost:8080/",
          "height": 68
        }
      },
      "source": [
        "#Dimension of Data\n",
        "print('Shape of Features(Train): ',x.shape)\n",
        "print('Shape of Features(Test): ',x_test.shape)\n",
        "print('Shape of Labels(Train): ',y.shape)"
      ],
      "execution_count": 0,
      "outputs": [
        {
          "output_type": "stream",
          "text": [
            "Shape of Features(Train):  (5435, 40)\n",
            "Shape of Features(Test):  (3297, 40)\n",
            "Shape of Labels(Train):  (5435, 10)\n"
          ],
          "name": "stdout"
        }
      ]
    },
    {
      "cell_type": "markdown",
      "metadata": {
        "id": "7g_ejOFpuwwd",
        "colab_type": "text"
      },
      "source": [
        "## **ANN"
      ]
    },
    {
      "cell_type": "code",
      "metadata": {
        "id": "UryThZln3Keq",
        "colab_type": "code",
        "colab": {}
      },
      "source": [
        ""
      ],
      "execution_count": 0,
      "outputs": []
    },
    {
      "cell_type": "code",
      "metadata": {
        "id": "9xbFMv7hVuZx",
        "colab_type": "code",
        "colab": {}
      },
      "source": [
        ""
      ],
      "execution_count": 0,
      "outputs": []
    },
    {
      "cell_type": "code",
      "metadata": {
        "id": "AidJf9KDCW38",
        "colab_type": "code",
        "colab": {}
      },
      "source": [
        ""
      ],
      "execution_count": 0,
      "outputs": []
    },
    {
      "cell_type": "code",
      "metadata": {
        "id": "U5R1aEx0zAmf",
        "colab_type": "code",
        "colab": {}
      },
      "source": [
        ""
      ],
      "execution_count": 0,
      "outputs": []
    },
    {
      "cell_type": "code",
      "metadata": {
        "id": "JBG8D17KVzWQ",
        "colab_type": "code",
        "outputId": "96085d7c-931e-472f-b012-eebc5eb66b51",
        "colab": {
          "base_uri": "https://localhost:8080/",
          "height": 1000
        }
      },
      "source": [
        "#ANN ALGORITHM\n",
        "from keras import Sequential\n",
        "from keras.layers import Dense,Dropout,Activation\n",
        "model=Sequential()\n",
        "model.add(Dense(units=256,activation='relu',input_dim=40))\n",
        "model.add(Dropout(0.5))\n",
        "model.add(Dense(units=256,activation='relu'))\n",
        "model.add(Dropout(0.5))\n",
        "model.add(Dense(units=256,activation='relu'))\n",
        "model.add(Dropout(0.5))\n",
        "model.add(Dense(units=10,activation='softmax'))\n",
        "model.compile(optimizer='adam',loss='categorical_crossentropy',metrics=['accuracy'])\n",
        "history=model.fit(x,y, epochs=100,validation_data=(x,y),batch_size=32)\n"
      ],
      "execution_count": 0,
      "outputs": [
        {
          "output_type": "stream",
          "text": [
            "Train on 5435 samples, validate on 5435 samples\n",
            "Epoch 1/100\n",
            "5435/5435 [==============================] - 3s 516us/step - loss: 9.3846 - accuracy: 0.1492 - val_loss: 2.1882 - val_accuracy: 0.1904\n",
            "Epoch 2/100\n",
            "5435/5435 [==============================] - 1s 168us/step - loss: 2.6216 - accuracy: 0.1796 - val_loss: 2.1880 - val_accuracy: 0.1834\n",
            "Epoch 3/100\n",
            "5435/5435 [==============================] - 1s 165us/step - loss: 2.2878 - accuracy: 0.1923 - val_loss: 2.1110 - val_accuracy: 0.2351\n",
            "Epoch 4/100\n",
            "5435/5435 [==============================] - 1s 168us/step - loss: 2.1949 - accuracy: 0.2123 - val_loss: 2.0602 - val_accuracy: 0.2815\n",
            "Epoch 5/100\n",
            "5435/5435 [==============================] - 1s 168us/step - loss: 2.0682 - accuracy: 0.2664 - val_loss: 1.9492 - val_accuracy: 0.3494\n",
            "Epoch 6/100\n",
            "5435/5435 [==============================] - 1s 165us/step - loss: 2.0001 - accuracy: 0.2916 - val_loss: 1.8308 - val_accuracy: 0.4040\n",
            "Epoch 7/100\n",
            "5435/5435 [==============================] - 1s 166us/step - loss: 1.8767 - accuracy: 0.3349 - val_loss: 1.6623 - val_accuracy: 0.4852\n",
            "Epoch 8/100\n",
            "5435/5435 [==============================] - 1s 164us/step - loss: 1.7748 - accuracy: 0.3794 - val_loss: 1.5651 - val_accuracy: 0.5227\n",
            "Epoch 9/100\n",
            "5435/5435 [==============================] - 1s 167us/step - loss: 1.6769 - accuracy: 0.4149 - val_loss: 1.4139 - val_accuracy: 0.5713\n",
            "Epoch 10/100\n",
            "5435/5435 [==============================] - 1s 166us/step - loss: 1.5920 - accuracy: 0.4517 - val_loss: 1.3615 - val_accuracy: 0.5994\n",
            "Epoch 11/100\n",
            "5435/5435 [==============================] - 1s 165us/step - loss: 1.5234 - accuracy: 0.4701 - val_loss: 1.2823 - val_accuracy: 0.6252\n",
            "Epoch 12/100\n",
            "5435/5435 [==============================] - 1s 161us/step - loss: 1.4503 - accuracy: 0.5104 - val_loss: 1.1539 - val_accuracy: 0.6372\n",
            "Epoch 13/100\n",
            "5435/5435 [==============================] - 1s 164us/step - loss: 1.3567 - accuracy: 0.5371 - val_loss: 1.1632 - val_accuracy: 0.6464\n",
            "Epoch 14/100\n",
            "5435/5435 [==============================] - 1s 163us/step - loss: 1.3184 - accuracy: 0.5531 - val_loss: 1.0224 - val_accuracy: 0.6802\n",
            "Epoch 15/100\n",
            "5435/5435 [==============================] - 1s 164us/step - loss: 1.2693 - accuracy: 0.5772 - val_loss: 0.9622 - val_accuracy: 0.6953\n",
            "Epoch 16/100\n",
            "5435/5435 [==============================] - 1s 167us/step - loss: 1.2271 - accuracy: 0.5803 - val_loss: 0.9430 - val_accuracy: 0.6977\n",
            "Epoch 17/100\n",
            "5435/5435 [==============================] - 1s 160us/step - loss: 1.1643 - accuracy: 0.6112 - val_loss: 0.9178 - val_accuracy: 0.7108\n",
            "Epoch 18/100\n",
            "5435/5435 [==============================] - 1s 166us/step - loss: 1.1276 - accuracy: 0.6239 - val_loss: 0.8652 - val_accuracy: 0.7209\n",
            "Epoch 19/100\n",
            "5435/5435 [==============================] - 1s 163us/step - loss: 1.1067 - accuracy: 0.6250 - val_loss: 0.8005 - val_accuracy: 0.7483\n",
            "Epoch 20/100\n",
            "5435/5435 [==============================] - 1s 160us/step - loss: 1.0716 - accuracy: 0.6454 - val_loss: 0.8026 - val_accuracy: 0.7382\n",
            "Epoch 21/100\n",
            "5435/5435 [==============================] - 1s 164us/step - loss: 1.0430 - accuracy: 0.6550 - val_loss: 0.7738 - val_accuracy: 0.7415\n",
            "Epoch 22/100\n",
            "5435/5435 [==============================] - 1s 169us/step - loss: 0.9937 - accuracy: 0.6655 - val_loss: 0.7180 - val_accuracy: 0.7733\n",
            "Epoch 23/100\n",
            "5435/5435 [==============================] - 1s 161us/step - loss: 0.9765 - accuracy: 0.6741 - val_loss: 0.6879 - val_accuracy: 0.7783\n",
            "Epoch 24/100\n",
            "5435/5435 [==============================] - 1s 162us/step - loss: 0.9400 - accuracy: 0.6835 - val_loss: 0.6808 - val_accuracy: 0.8024\n",
            "Epoch 25/100\n",
            "5435/5435 [==============================] - 1s 162us/step - loss: 0.9387 - accuracy: 0.6881 - val_loss: 0.6580 - val_accuracy: 0.7960\n",
            "Epoch 26/100\n",
            "5435/5435 [==============================] - 1s 166us/step - loss: 0.9339 - accuracy: 0.6940 - val_loss: 0.6478 - val_accuracy: 0.8090\n",
            "Epoch 27/100\n",
            "5435/5435 [==============================] - 1s 165us/step - loss: 0.8905 - accuracy: 0.7051 - val_loss: 0.6212 - val_accuracy: 0.8020\n",
            "Epoch 28/100\n",
            "5435/5435 [==============================] - 1s 162us/step - loss: 0.8800 - accuracy: 0.7093 - val_loss: 0.5964 - val_accuracy: 0.8138\n",
            "Epoch 29/100\n",
            "5435/5435 [==============================] - 1s 164us/step - loss: 0.8533 - accuracy: 0.7163 - val_loss: 0.5785 - val_accuracy: 0.8206\n",
            "Epoch 30/100\n",
            "5435/5435 [==============================] - 1s 162us/step - loss: 0.8402 - accuracy: 0.7190 - val_loss: 0.5543 - val_accuracy: 0.8309\n",
            "Epoch 31/100\n",
            "5435/5435 [==============================] - 1s 164us/step - loss: 0.8305 - accuracy: 0.7218 - val_loss: 0.5626 - val_accuracy: 0.8351\n",
            "Epoch 32/100\n",
            "5435/5435 [==============================] - 1s 160us/step - loss: 0.8264 - accuracy: 0.7238 - val_loss: 0.5421 - val_accuracy: 0.8348\n",
            "Epoch 33/100\n",
            "5435/5435 [==============================] - 1s 165us/step - loss: 0.7987 - accuracy: 0.7349 - val_loss: 0.5462 - val_accuracy: 0.8258\n",
            "Epoch 34/100\n",
            "5435/5435 [==============================] - 1s 161us/step - loss: 0.7793 - accuracy: 0.7338 - val_loss: 0.4878 - val_accuracy: 0.8493\n",
            "Epoch 35/100\n",
            "5435/5435 [==============================] - 1s 161us/step - loss: 0.7581 - accuracy: 0.7487 - val_loss: 0.5129 - val_accuracy: 0.8410\n",
            "Epoch 36/100\n",
            "5435/5435 [==============================] - 1s 166us/step - loss: 0.7685 - accuracy: 0.7461 - val_loss: 0.5201 - val_accuracy: 0.8454\n",
            "Epoch 37/100\n",
            "5435/5435 [==============================] - 1s 166us/step - loss: 0.7565 - accuracy: 0.7520 - val_loss: 0.4967 - val_accuracy: 0.8464\n",
            "Epoch 38/100\n",
            "5435/5435 [==============================] - 1s 165us/step - loss: 0.7318 - accuracy: 0.7579 - val_loss: 0.4766 - val_accuracy: 0.8548\n",
            "Epoch 39/100\n",
            "5435/5435 [==============================] - 1s 162us/step - loss: 0.7191 - accuracy: 0.7652 - val_loss: 0.4509 - val_accuracy: 0.8541\n",
            "Epoch 40/100\n",
            "5435/5435 [==============================] - 1s 162us/step - loss: 0.7253 - accuracy: 0.7549 - val_loss: 0.4526 - val_accuracy: 0.8644\n",
            "Epoch 41/100\n",
            "5435/5435 [==============================] - 1s 162us/step - loss: 0.7018 - accuracy: 0.7643 - val_loss: 0.4476 - val_accuracy: 0.8567\n",
            "Epoch 42/100\n",
            "5435/5435 [==============================] - 1s 166us/step - loss: 0.7070 - accuracy: 0.7617 - val_loss: 0.4102 - val_accuracy: 0.8799\n",
            "Epoch 43/100\n",
            "5435/5435 [==============================] - 1s 165us/step - loss: 0.6895 - accuracy: 0.7744 - val_loss: 0.4154 - val_accuracy: 0.8708\n",
            "Epoch 44/100\n",
            "5435/5435 [==============================] - 1s 164us/step - loss: 0.6761 - accuracy: 0.7759 - val_loss: 0.4239 - val_accuracy: 0.8651\n",
            "Epoch 45/100\n",
            "5435/5435 [==============================] - 1s 162us/step - loss: 0.6874 - accuracy: 0.7704 - val_loss: 0.3890 - val_accuracy: 0.8815\n",
            "Epoch 46/100\n",
            "5435/5435 [==============================] - 1s 164us/step - loss: 0.6708 - accuracy: 0.7774 - val_loss: 0.4143 - val_accuracy: 0.8661\n",
            "Epoch 47/100\n",
            "5435/5435 [==============================] - 1s 161us/step - loss: 0.6660 - accuracy: 0.7755 - val_loss: 0.4028 - val_accuracy: 0.8677\n",
            "Epoch 48/100\n",
            "5435/5435 [==============================] - 1s 160us/step - loss: 0.6821 - accuracy: 0.7774 - val_loss: 0.4163 - val_accuracy: 0.8635\n",
            "Epoch 49/100\n",
            "5435/5435 [==============================] - 1s 165us/step - loss: 0.6351 - accuracy: 0.7904 - val_loss: 0.3761 - val_accuracy: 0.8852\n",
            "Epoch 50/100\n",
            "5435/5435 [==============================] - 1s 162us/step - loss: 0.6692 - accuracy: 0.7801 - val_loss: 0.3803 - val_accuracy: 0.8776\n",
            "Epoch 51/100\n",
            "5435/5435 [==============================] - 1s 166us/step - loss: 0.6535 - accuracy: 0.7829 - val_loss: 0.3638 - val_accuracy: 0.8819\n",
            "Epoch 52/100\n",
            "5435/5435 [==============================] - 1s 162us/step - loss: 0.6536 - accuracy: 0.7895 - val_loss: 0.3623 - val_accuracy: 0.8911\n",
            "Epoch 53/100\n",
            "5435/5435 [==============================] - 1s 163us/step - loss: 0.6593 - accuracy: 0.7816 - val_loss: 0.3718 - val_accuracy: 0.8889\n",
            "Epoch 54/100\n",
            "5435/5435 [==============================] - 1s 164us/step - loss: 0.6163 - accuracy: 0.7967 - val_loss: 0.3687 - val_accuracy: 0.8940\n",
            "Epoch 55/100\n",
            "5435/5435 [==============================] - 1s 163us/step - loss: 0.6229 - accuracy: 0.7960 - val_loss: 0.3447 - val_accuracy: 0.8931\n",
            "Epoch 56/100\n",
            "5435/5435 [==============================] - 1s 162us/step - loss: 0.6111 - accuracy: 0.8061 - val_loss: 0.3440 - val_accuracy: 0.8979\n",
            "Epoch 57/100\n",
            "5435/5435 [==============================] - 1s 166us/step - loss: 0.6240 - accuracy: 0.8018 - val_loss: 0.3677 - val_accuracy: 0.8924\n",
            "Epoch 58/100\n",
            "5435/5435 [==============================] - 1s 164us/step - loss: 0.6118 - accuracy: 0.7996 - val_loss: 0.3477 - val_accuracy: 0.8902\n",
            "Epoch 59/100\n",
            "5435/5435 [==============================] - 1s 161us/step - loss: 0.5948 - accuracy: 0.8017 - val_loss: 0.3281 - val_accuracy: 0.8971\n",
            "Epoch 60/100\n",
            "5435/5435 [==============================] - 1s 162us/step - loss: 0.6110 - accuracy: 0.7989 - val_loss: 0.3399 - val_accuracy: 0.8881\n",
            "Epoch 61/100\n",
            "5435/5435 [==============================] - 1s 163us/step - loss: 0.6164 - accuracy: 0.7987 - val_loss: 0.3630 - val_accuracy: 0.8850\n",
            "Epoch 62/100\n",
            "5435/5435 [==============================] - 1s 167us/step - loss: 0.6243 - accuracy: 0.8031 - val_loss: 0.3348 - val_accuracy: 0.8975\n",
            "Epoch 63/100\n",
            "5435/5435 [==============================] - 1s 165us/step - loss: 0.6155 - accuracy: 0.8035 - val_loss: 0.3275 - val_accuracy: 0.9043\n",
            "Epoch 64/100\n",
            "5435/5435 [==============================] - 1s 164us/step - loss: 0.5722 - accuracy: 0.8114 - val_loss: 0.3295 - val_accuracy: 0.9021\n",
            "Epoch 65/100\n",
            "5435/5435 [==============================] - 1s 162us/step - loss: 0.5832 - accuracy: 0.8099 - val_loss: 0.3426 - val_accuracy: 0.8999\n",
            "Epoch 66/100\n",
            "5435/5435 [==============================] - 1s 171us/step - loss: 0.5877 - accuracy: 0.8044 - val_loss: 0.3069 - val_accuracy: 0.9087\n",
            "Epoch 67/100\n",
            "5435/5435 [==============================] - 1s 163us/step - loss: 0.5761 - accuracy: 0.8075 - val_loss: 0.3263 - val_accuracy: 0.8984\n",
            "Epoch 68/100\n",
            "5435/5435 [==============================] - 1s 161us/step - loss: 0.5728 - accuracy: 0.8068 - val_loss: 0.3074 - val_accuracy: 0.9097\n",
            "Epoch 69/100\n",
            "5435/5435 [==============================] - 1s 163us/step - loss: 0.5647 - accuracy: 0.8169 - val_loss: 0.3093 - val_accuracy: 0.9049\n",
            "Epoch 70/100\n",
            "5435/5435 [==============================] - 1s 163us/step - loss: 0.5582 - accuracy: 0.8125 - val_loss: 0.2981 - val_accuracy: 0.9075\n",
            "Epoch 71/100\n",
            "5435/5435 [==============================] - 1s 166us/step - loss: 0.5919 - accuracy: 0.8129 - val_loss: 0.3455 - val_accuracy: 0.8959\n",
            "Epoch 72/100\n",
            "5435/5435 [==============================] - 1s 165us/step - loss: 0.5493 - accuracy: 0.8180 - val_loss: 0.2733 - val_accuracy: 0.9161\n",
            "Epoch 73/100\n",
            "5435/5435 [==============================] - 1s 164us/step - loss: 0.5687 - accuracy: 0.8112 - val_loss: 0.3102 - val_accuracy: 0.9065\n",
            "Epoch 74/100\n",
            "5435/5435 [==============================] - 1s 164us/step - loss: 0.5799 - accuracy: 0.8114 - val_loss: 0.3013 - val_accuracy: 0.9095\n",
            "Epoch 75/100\n",
            "5435/5435 [==============================] - 1s 168us/step - loss: 0.5477 - accuracy: 0.8202 - val_loss: 0.2885 - val_accuracy: 0.9155\n",
            "Epoch 76/100\n",
            "5435/5435 [==============================] - 1s 167us/step - loss: 0.5604 - accuracy: 0.8178 - val_loss: 0.3195 - val_accuracy: 0.8977\n",
            "Epoch 77/100\n",
            "5435/5435 [==============================] - 1s 165us/step - loss: 0.5273 - accuracy: 0.8274 - val_loss: 0.2956 - val_accuracy: 0.9067\n",
            "Epoch 78/100\n",
            "5435/5435 [==============================] - 1s 166us/step - loss: 0.5641 - accuracy: 0.8175 - val_loss: 0.2933 - val_accuracy: 0.9159\n",
            "Epoch 79/100\n",
            "5435/5435 [==============================] - 1s 163us/step - loss: 0.5460 - accuracy: 0.8256 - val_loss: 0.2794 - val_accuracy: 0.9143\n",
            "Epoch 80/100\n",
            "5435/5435 [==============================] - 1s 163us/step - loss: 0.5456 - accuracy: 0.8186 - val_loss: 0.2852 - val_accuracy: 0.9124\n",
            "Epoch 81/100\n",
            "5435/5435 [==============================] - 1s 164us/step - loss: 0.5451 - accuracy: 0.8219 - val_loss: 0.2766 - val_accuracy: 0.9165\n",
            "Epoch 82/100\n",
            "5435/5435 [==============================] - 1s 161us/step - loss: 0.5525 - accuracy: 0.8234 - val_loss: 0.2876 - val_accuracy: 0.9192\n",
            "Epoch 83/100\n",
            "5435/5435 [==============================] - 1s 172us/step - loss: 0.5038 - accuracy: 0.8287 - val_loss: 0.2575 - val_accuracy: 0.9214\n",
            "Epoch 84/100\n",
            "5435/5435 [==============================] - 1s 172us/step - loss: 0.5204 - accuracy: 0.8318 - val_loss: 0.2575 - val_accuracy: 0.9216\n",
            "Epoch 85/100\n",
            "5435/5435 [==============================] - 1s 172us/step - loss: 0.5384 - accuracy: 0.8247 - val_loss: 0.2632 - val_accuracy: 0.9214\n",
            "Epoch 86/100\n",
            "5435/5435 [==============================] - 1s 173us/step - loss: 0.5340 - accuracy: 0.8248 - val_loss: 0.2616 - val_accuracy: 0.9214\n",
            "Epoch 87/100\n",
            "5435/5435 [==============================] - 1s 170us/step - loss: 0.5392 - accuracy: 0.8285 - val_loss: 0.2611 - val_accuracy: 0.9295\n",
            "Epoch 88/100\n",
            "5435/5435 [==============================] - 1s 172us/step - loss: 0.5233 - accuracy: 0.8329 - val_loss: 0.2726 - val_accuracy: 0.9224\n",
            "Epoch 89/100\n",
            "5435/5435 [==============================] - 1s 166us/step - loss: 0.5448 - accuracy: 0.8228 - val_loss: 0.2805 - val_accuracy: 0.9155\n",
            "Epoch 90/100\n",
            "5435/5435 [==============================] - 1s 163us/step - loss: 0.5474 - accuracy: 0.8276 - val_loss: 0.2798 - val_accuracy: 0.9224\n",
            "Epoch 91/100\n",
            "5435/5435 [==============================] - 1s 163us/step - loss: 0.5280 - accuracy: 0.8276 - val_loss: 0.2794 - val_accuracy: 0.9093\n",
            "Epoch 92/100\n",
            "5435/5435 [==============================] - 1s 167us/step - loss: 0.5323 - accuracy: 0.8256 - val_loss: 0.2748 - val_accuracy: 0.9172\n",
            "Epoch 93/100\n",
            "5435/5435 [==============================] - 1s 161us/step - loss: 0.5162 - accuracy: 0.8340 - val_loss: 0.2465 - val_accuracy: 0.9246\n",
            "Epoch 94/100\n",
            "5435/5435 [==============================] - 1s 169us/step - loss: 0.4932 - accuracy: 0.8392 - val_loss: 0.2670 - val_accuracy: 0.9225\n",
            "Epoch 95/100\n",
            "5435/5435 [==============================] - 1s 160us/step - loss: 0.5422 - accuracy: 0.8241 - val_loss: 0.2790 - val_accuracy: 0.9148\n",
            "Epoch 96/100\n",
            "5435/5435 [==============================] - 1s 165us/step - loss: 0.5322 - accuracy: 0.8272 - val_loss: 0.2507 - val_accuracy: 0.9209\n",
            "Epoch 97/100\n",
            "5435/5435 [==============================] - 1s 162us/step - loss: 0.5213 - accuracy: 0.8322 - val_loss: 0.2751 - val_accuracy: 0.9161\n",
            "Epoch 98/100\n",
            "5435/5435 [==============================] - 1s 162us/step - loss: 0.4952 - accuracy: 0.8392 - val_loss: 0.2473 - val_accuracy: 0.9235\n",
            "Epoch 99/100\n",
            "5435/5435 [==============================] - 1s 164us/step - loss: 0.5235 - accuracy: 0.8357 - val_loss: 0.2470 - val_accuracy: 0.9330\n",
            "Epoch 100/100\n",
            "5435/5435 [==============================] - 1s 161us/step - loss: 0.4811 - accuracy: 0.8475 - val_loss: 0.2601 - val_accuracy: 0.9281\n"
          ],
          "name": "stdout"
        }
      ]
    },
    {
      "cell_type": "code",
      "metadata": {
        "id": "paUOj6XcV_Aq",
        "colab_type": "code",
        "outputId": "9ed147e8-3ae9-45fb-a680-990200e3a6ac",
        "colab": {
          "base_uri": "https://localhost:8080/",
          "height": 530
        }
      },
      "source": [
        "%matplotlib inline\n",
        "acc=history.history['accuracy']\n",
        "val_acc=history.history['val_accuracy']\n",
        "loss=history.history['loss']\n",
        "val_loss=history.history['val_loss']\n",
        "\n",
        "epochs=range(len(acc)) #No. of epochs\n",
        "\n",
        "#Plot training and validation accuracy per epoch\n",
        "import matplotlib.pyplot as plt\n",
        "plt.plot(epochs,acc,'b',label='Training Accuracy')\n",
        "plt.plot(epochs,val_acc,'r',label='Validation Accuracy')\n",
        "plt.legend()\n",
        "plt.figure()\n",
        "\n",
        "#Plot training and validation loss per epoch\n",
        "plt.plot(epochs,loss,'b',label='Training Loss')\n",
        "plt.plot(epochs,val_loss,'r',label='Validation Loss')\n",
        "plt.legend()\n",
        "plt.show()\n",
        "print()"
      ],
      "execution_count": 0,
      "outputs": [
        {
          "output_type": "display_data",
          "data": {
            "image/png": "[encoded data removed]",
            "text/plain": [
              "<Figure size 432x288 with 1 Axes>"
            ]
          },
          "metadata": {
            "tags": [],
            "needs_background": "light"
          }
        },
        {
          "output_type": "display_data",
          "data": {
            "image/png": "[encoded data removed]",
            "text/plain": [
              "<Figure size 432x288 with 1 Axes>"
            ]
          },
          "metadata": {
            "tags": [],
            "needs_background": "light"
          }
        },
        {
          "output_type": "stream",
          "text": [
            "\n"
          ],
          "name": "stdout"
        }
      ]
    },
    {
      "cell_type": "code",
      "metadata": {
        "id": "ds05mME4Cscf",
        "colab_type": "code",
        "outputId": "2d8d8cf2-a6b4-4d4f-d634-d81d7b556d12",
        "colab": {
          "base_uri": "https://localhost:8080/",
          "height": 54
        }
      },
      "source": [
        "print(acc)"
      ],
      "execution_count": 0,
      "outputs": [
        {
          "output_type": "stream",
          "text": [
            "[0.14921804, 0.17957681, 0.1922723, 0.21232751, 0.26642135, 0.29162833, 0.3348666, 0.37939283, 0.4149034, 0.45170194, 0.4701012, 0.5103956, 0.5370745, 0.55308187, 0.5771849, 0.5803128, 0.6112236, 0.62391907, 0.625023, 0.6454462, 0.6550138, 0.66550136, 0.67414904, 0.68353266, 0.68813246, 0.6940202, 0.7050598, 0.70929164, 0.7162833, 0.71904325, 0.7218031, 0.72382706, 0.7348666, 0.7337626, 0.74866605, 0.7460902, 0.7519779, 0.75786567, 0.7652254, 0.7549218, 0.7643054, 0.76172954, 0.774425, 0.77589697, 0.77037716, 0.7773689, 0.77552897, 0.7773689, 0.7904324, 0.7801288, 0.7828887, 0.7895124, 0.7816007, 0.79668814, 0.79595214, 0.80607176, 0.80183995, 0.799632, 0.80165595, 0.798896, 0.7987121, 0.8031279, 0.8034959, 0.81140757, 0.8099356, 0.8044158, 0.8075437, 0.80680776, 0.8169273, 0.8125115, 0.8128795, 0.81803125, 0.81122357, 0.81140757, 0.8202392, 0.8178473, 0.82741493, 0.8174793, 0.825575, 0.81858325, 0.8218951, 0.82336706, 0.82870287, 0.83183074, 0.824655, 0.824839, 0.82851887, 0.8329347, 0.82281506, 0.82759887, 0.82759887, 0.825575, 0.8340386, 0.8391904, 0.82410306, 0.82723093, 0.83219874, 0.8391904, 0.83569455, 0.8474701]\n"
          ],
          "name": "stdout"
        }
      ]
    },
    {
      "cell_type": "markdown",
      "metadata": {
        "id": "PG5WvOHJ1Wkh",
        "colab_type": "text"
      },
      "source": [
        "### **The model achieves a validation accuracy of over 90% and from the graph above, we can see that there is no overfitting.**"
      ]
    },
    {
      "cell_type": "code",
      "metadata": {
        "id": "xhOnYoU3EJb1",
        "colab_type": "code",
        "colab": {}
      },
      "source": [
        "#Determining the classes of the audios in the test set. We do not have the labels for the test set. I will generate a submission file that would contain the ID\n",
        "#and classes of the samples in the test set. The accuracy of the test set can be known by submitting to the analytics vidya challenge. \n",
        "pred=model.predict(x_test)\n",
        "b=np.argmax(pred,axis=1)\n",
        "pred_test=le.inverse_transform(b)"
      ],
      "execution_count": 0,
      "outputs": []
    },
    {
      "cell_type": "code",
      "metadata": {
        "id": "QDa6f5DBAZut",
        "colab_type": "code",
        "outputId": "b3dac734-9016-4bb6-968b-e4152e4d8c38",
        "colab": {
          "base_uri": "https://localhost:8080/",
          "height": 51
        }
      },
      "source": [
        "[test_loss, test_acc] = model.evaluate(x,y)\n",
        "print(\"Loss = {}, accuracy = {}\".format(test_loss, test_acc))"
      ],
      "execution_count": 0,
      "outputs": [
        {
          "output_type": "stream",
          "text": [
            "5435/5435 [==============================] - 0s 54us/step\n",
            "Loss = 0.26009987933216777, accuracy = 0.9280588626861572\n"
          ],
          "name": "stdout"
        }
      ]
    },
    {
      "cell_type": "code",
      "metadata": {
        "id": "QupwPeCyGCVz",
        "colab_type": "code",
        "colab": {}
      },
      "source": [
        "#Generating the Class of the audios for the Test set and saving in a .csv file\n",
        "out_df = pd.DataFrame({'ID':test['ID'].values})\n",
        "out_df .insert(loc=0, column='Class', value=pred_test)\n",
        "out_df.to_csv('submission.csv', index=False)"
      ],
      "execution_count": 0,
      "outputs": []
    },
    {
      "cell_type": "code",
      "metadata": {
        "id": "EBvHZN37EPlM",
        "colab_type": "code",
        "outputId": "cc13a949-ca65-486b-a6b7-11adc383c9c0",
        "colab": {
          "base_uri": "https://localhost:8080/",
          "height": 204
        }
      },
      "source": [
        "#Viewing the test file\n",
        "s=pd.read_csv('submission.csv')\n",
        "s.head(5)"
      ],
      "execution_count": 0,
      "outputs": [
        {
          "output_type": "execute_result",
          "data": {
            "text/html": [
              "<div>\n",
              "<style scoped>\n",
              "    .dataframe tbody tr th:only-of-type {\n",
              "        vertical-align: middle;\n",
              "    }\n",
              "\n",
              "    .dataframe tbody tr th {\n",
              "        vertical-align: top;\n",
              "    }\n",
              "\n",
              "    .dataframe thead th {\n",
              "        text-align: right;\n",
              "    }\n",
              "</style>\n",
              "<table border=\"1\" class=\"dataframe\">\n",
              "  <thead>\n",
              "    <tr style=\"text-align: right;\">\n",
              "      <th></th>\n",
              "      <th>Class</th>\n",
              "      <th>ID</th>\n",
              "    </tr>\n",
              "  </thead>\n",
              "  <tbody>\n",
              "    <tr>\n",
              "      <th>0</th>\n",
              "      <td>drilling</td>\n",
              "      <td>5</td>\n",
              "    </tr>\n",
              "    <tr>\n",
              "      <th>1</th>\n",
              "      <td>children_playing</td>\n",
              "      <td>7</td>\n",
              "    </tr>\n",
              "    <tr>\n",
              "      <th>2</th>\n",
              "      <td>drilling</td>\n",
              "      <td>8</td>\n",
              "    </tr>\n",
              "    <tr>\n",
              "      <th>3</th>\n",
              "      <td>children_playing</td>\n",
              "      <td>9</td>\n",
              "    </tr>\n",
              "    <tr>\n",
              "      <th>4</th>\n",
              "      <td>engine_idling</td>\n",
              "      <td>13</td>\n",
              "    </tr>\n",
              "  </tbody>\n",
              "</table>\n",
              "</div>"
            ],
            "text/plain": [
              "              Class  ID\n",
              "0          drilling   5\n",
              "1  children_playing   7\n",
              "2          drilling   8\n",
              "3  children_playing   9\n",
              "4     engine_idling  13"
            ]
          },
          "metadata": {
            "tags": []
          },
          "execution_count": 17
        }
      ]
    },
    {
      "cell_type": "markdown",
      "metadata": {
        "id": "zl-21MKR3CcR",
        "colab_type": "text"
      },
      "source": [
        "## **Convolutional Neural Network (CNN)**"
      ]
    },
    {
      "cell_type": "code",
      "metadata": {
        "id": "fcqnzEx_4zxR",
        "colab_type": "code",
        "colab": {}
      },
      "source": [
        "#Here, I am extracting the mfccs for 10 audio samples\n",
        "mfccs=[]\n",
        "for i in range(len(train[:10])):\n",
        "  file_name='/tmp/trainlast/Train/' + str(train.ID[i+100]) + '.wav'\n",
        "  audio, sample_rate = librosa.load(file_name, res_type='kaiser_fast') \n",
        "  mfccs.append(librosa.feature.mfcc(y=audio, sr=sample_rate, n_mfcc=40))"
      ],
      "execution_count": 0,
      "outputs": []
    },
    {
      "cell_type": "code",
      "metadata": {
        "id": "jsxJNvnq5UOr",
        "colab_type": "code",
        "outputId": "4d9b60ad-4cc6-4d44-90c5-a5a6212e8a0d",
        "colab": {
          "base_uri": "https://localhost:8080/",
          "height": 187
        }
      },
      "source": [
        "#Each of the samples has 40 rows but variable number of columns\n",
        "for i in range(len(mfccs)):\n",
        "  print(len(mfccs[i][0]))"
      ],
      "execution_count": 0,
      "outputs": [
        {
          "output_type": "stream",
          "text": [
            "173\n",
            "99\n",
            "173\n",
            "173\n",
            "173\n",
            "95\n",
            "173\n",
            "173\n",
            "173\n",
            "127\n"
          ],
          "name": "stdout"
        }
      ]
    },
    {
      "cell_type": "code",
      "metadata": {
        "id": "jzsHjrr05fqG",
        "colab_type": "code",
        "outputId": "4d10da65-f4a1-465a-85d7-e6c77d506dc2",
        "colab": {
          "base_uri": "https://localhost:8080/",
          "height": 68
        }
      },
      "source": [
        "#CNN doesnot support variable column length. We will have to fix the column length and pad them\n",
        "max_pad_len=174 # I am defining a maximum length for each column \n",
        "\n",
        "file_name='/tmp/trainlast/Train/12.wav'\n",
        "audio, sample_rate = librosa.load(file_name, res_type='kaiser_fast') \n",
        "mfcc=librosa.feature.mfcc(y=audio, sr=sample_rate, n_mfcc=40)\n",
        "print('Shape of feature matrix: ',mfcc.shape)\n",
        "pad_width = max_pad_len - mfcc.shape[1]\n",
        "print('Pad width: up',pad_width)\n",
        "mfcc = np.pad(mfcc, pad_width=((0, 0), (0, pad_width)), mode='constant')\n",
        "print('Shape of feature matrix after padding: ',mfcc.shape)"
      ],
      "execution_count": 0,
      "outputs": [
        {
          "output_type": "stream",
          "text": [
            "Shape of feature matrix:  (40, 50)\n",
            "Pad width: up 124\n",
            "Shape of feature matrix after padding:  (40, 174)\n"
          ],
          "name": "stdout"
        }
      ]
    },
    {
      "cell_type": "code",
      "metadata": {
        "id": "bQSbfyHR8CGF",
        "colab_type": "code",
        "colab": {}
      },
      "source": [
        "#Let's do the stuff mentioned above for all the training samples\n",
        "features_new=[]\n",
        "labels=[]\n",
        "max_pad_len=174 \n",
        "\n",
        "for i in range(len(train)):\n",
        "  filename='/tmp/trainlast/Train/' + str(train.ID[i]) + '.wav'\n",
        "  x, sample_rate = librosa.load(filename, res_type='kaiser_fast') \n",
        "  mfcc=librosa.feature.mfcc(y=x, sr=sample_rate, n_mfcc=40)\n",
        "  pad_width = max_pad_len - mfcc.shape[1]\n",
        "  mfcc = np.pad(mfcc, pad_width=((0, 0), (0, pad_width)), mode='constant')\n",
        "  features_new.append(mfcc)\n",
        "  labels.append(train.Class[i])"
      ],
      "execution_count": 0,
      "outputs": []
    },
    {
      "cell_type": "code",
      "metadata": {
        "id": "eeEdaEZQ8vTy",
        "colab_type": "code",
        "colab": {}
      },
      "source": [
        "#Let's do the stuff mentioned above for all the test samples\n",
        "features_new_test=[]\n",
        "max_pad_len=174 \n",
        "\n",
        "for i in range(len(test)):\n",
        "  filename='/tmp/testlast/Test/' + str(test.ID[i]) + '.wav'\n",
        "  x, sample_rate = librosa.load(filename, res_type='kaiser_fast') \n",
        "  mfcc=librosa.feature.mfcc(y=x, sr=sample_rate, n_mfcc=40)\n",
        "  pad_width = max_pad_len - mfcc.shape[1]\n",
        "  mfcc = np.pad(mfcc, pad_width=((0, 0), (0, pad_width)), mode='constant')\n",
        "  features_new_test.append(mfcc)"
      ],
      "execution_count": 0,
      "outputs": []
    },
    {
      "cell_type": "code",
      "metadata": {
        "id": "4IB9zKG880Bc",
        "colab_type": "code",
        "colab": {}
      },
      "source": [
        "x_new=np.array(features_new)  #coverting the features vector to a numpy array\n",
        "x_new=x_new.reshape(x_new.shape[0], 40, 174, 1) #reshaping the array for the convolution layer input\n",
        "\n",
        "x_new_test=np.array(features_new_test)  \n",
        "x_new_test=x_new_test.reshape(x_new_test.shape[0], 40, 174, 1)\n",
        "\n",
        "#encoding the labels\n",
        "from sklearn.preprocessing import LabelEncoder\n",
        "from keras.utils import to_categorical\n",
        "\n",
        "le = LabelEncoder()\n",
        "y = to_categorical(le.fit_transform(labels))"
      ],
      "execution_count": 0,
      "outputs": []
    },
    {
      "cell_type": "code",
      "metadata": {
        "id": "Bu67oNFm82p3",
        "colab_type": "code",
        "outputId": "79a2b532-b1ce-46df-c35d-12b99feb0eeb",
        "colab": {
          "base_uri": "https://localhost:8080/",
          "height": 68
        }
      },
      "source": [
        "#Dimension of Data\n",
        "print('Shape of Features(Train): ',x_new.shape)\n",
        "print('Shape of Features(Test): ',x_new_test.shape)\n",
        "print('Shape of Labels(Train): ',y.shape)"
      ],
      "execution_count": 0,
      "outputs": [
        {
          "output_type": "stream",
          "text": [
            "Shape of Features(Train):  (5435, 40, 174, 1)\n",
            "Shape of Features(Test):  (3297, 40, 174, 1)\n",
            "Shape of Labels(Train):  (5435, 10)\n"
          ],
          "name": "stdout"
        }
      ]
    },
    {
      "cell_type": "code",
      "metadata": {
        "id": "nHpIFrUfzFZq",
        "colab_type": "code",
        "colab": {}
      },
      "source": [
        "#import tensorflow as tf\n",
        "#from keras import regularizers\n",
        "\n",
        "#model3=tf.keras.models.Sequential([\n",
        "    \n",
        "    #tf.keras.layers.Conv2D(16,(3,3),activation='relu',input_shape=(40,174,1)),\n",
        "    #tf.keras.layers.MaxPooling2D(2,2),\n",
        "    #tf.keras.layers.Dropout(0.2),\n",
        "    #tf.keras.layers.Conv2D(32,(3,3),activation='relu'),\n",
        "    #tf.keras.layers.MaxPooling2D(2,2),\n",
        "    #tf.keras.layers.Dropout(0.2),\n",
        "    #tf.keras.layers.Conv2D(64,(3,3),activation='relu'),\n",
        "   # tf.keras.layers.MaxPooling2D(2,2),\n",
        "   # tf.keras.layers.Dropout(0.2),\n",
        "    #tf.keras.layers.Conv2D(128,(3,3),activation='relu',padding='same'),\n",
        "   # tf.keras.layers.MaxPooling2D(2#,2),\n",
        "    #tf.keras.layers.Dropout(0.4),\n",
        "    \n",
        "    #tf.keras.layers.Flatten(),\n",
        "    #tf.keras.layers.Dense(256,activation='relu'),\n",
        "    #tf.keras.layers.Dropout(0.5),\n",
        "   # tf.keras.layers.Dense(256,activation='relu'),\n",
        "   # tf.keras.layers.Dropout(0.5),\n",
        "    \n",
        "  #  tf.keras.layers.Dense(10,activation='softmax')\n",
        "#])\n",
        "    \n",
        "#model2=tf.keras.models.Sequential([\n",
        "    \n",
        "    #tf.keras.layers.Conv2D(16,(3,3),dilation_rate=(2, 2),activation='relu',input_shape=(40,174,1)),\n",
        "    #tf.keras.layers.MaxPooling2D(pool_size=(2,2)),\n",
        "    #tf.keras.layers.Dropout(0.2),\n",
        "    #tf.keras.layers.Conv2D(32,(3,3),dilation_rate=(2, 2),activation='relu',padding='same'),\n",
        "    #tf.keras.layers.MaxPooling2D(pool_size=(2,2)),\n",
        "    #tf.keras.layers.Dropout(0.2),\n",
        "    #tf.keras.layers.Conv2D(64,(3,3),dilation_rate=(2, 2),activation='relu',padding='same'),\n",
        "    #tf.keras.layers.MaxPooling2D(pool_size=(2,2)),\n",
        "    #tf.keras.layers.Dropout(0.2),\n",
        "    #tf.keras.layers.Conv2D(128,(3,3),dilation_rate=(2, 2),activation='relu',padding='same'),\n",
        "    #tf.keras.layers.MaxPooling2D(pool_size=(2,2)),\n",
        "    #tf.keras.layers.Dropout(0.4),\n",
        "    \n",
        "    #tf.keras.layers.Flatten(),\n",
        "    #tf.keras.layers.Dense(256,activation='relu'),\n",
        "    #tf.keras.layers.Dropout(0.5),\n",
        "    #tf.keras.layers.Dense(256,activation='relu'),\n",
        "    #tf.keras.layers.Dropout(0.5),\n",
        "    \n",
        "    #tf.keras.layers.Dense(10,activation='softmax')\n",
        "#])"
      ],
      "execution_count": 0,
      "outputs": []
    },
    {
      "cell_type": "code",
      "metadata": {
        "id": "2nB42agqdT5v",
        "colab_type": "code",
        "colab": {}
      },
      "source": [
        "#DILATED CNN WITH DILATION 2\n",
        "import tensorflow as tf\n",
        "from keras import regularizers\n",
        "model21=tf.keras.models.Sequential([\n",
        "    \n",
        "    tf.keras.layers.Conv2D(16,(3,3),dilation_rate=(2, 2),activation='relu',input_shape=(40,174,1)),\n",
        "    tf.keras.layers.MaxPooling2D(pool_size=(2,2)),\n",
        "    #tf.keras.layers.Dropout(0.2),\n",
        "    tf.keras.layers.Conv2D(32,(3,3),dilation_rate=(2, 2),activation='relu',padding='same'),\n",
        "    tf.keras.layers.MaxPooling2D(pool_size=(2,2)),\n",
        "    #tf.keras.layers.Dropout(0.2),\n",
        "    tf.keras.layers.Conv2D(64,(3,3),dilation_rate=(2, 2),activation='relu',padding='same'),\n",
        "    tf.keras.layers.MaxPooling2D(pool_size=(2,2)),\n",
        "    #tf.keras.layers.Dropout(0.2),\n",
        "    tf.keras.layers.Conv2D(128,(3,3),dilation_rate=(2, 2),activation='relu',padding='same'),\n",
        "    tf.keras.layers.MaxPooling2D(pool_size=(2,2)),\n",
        "    #tf.keras.layers.Dropout(0.2),\n",
        "    tf.keras.layers.Conv2D(256,(3,3),dilation_rate=(2, 2),activation='relu',padding='same'),\n",
        "    tf.keras.layers.MaxPooling2D(pool_size=(2,2)),\n",
        "    #tf.keras.layers.Dropout(0.2),\n",
        "    \n",
        "    tf.keras.layers.Flatten(),\n",
        "    tf.keras.layers.Dense(256,activation='relu'),\n",
        "    tf.keras.layers.Dropout(0.2),\n",
        "    tf.keras.layers.Dense(256,activation='relu'),\n",
        "    tf.keras.layers.Dropout(0.2),\n",
        "    \n",
        "    tf.keras.layers.Dense(10,activation='softmax')\n",
        "])"
      ],
      "execution_count": 0,
      "outputs": []
    },
    {
      "cell_type": "code",
      "metadata": {
        "id": "SL4gS63Dz44F",
        "colab_type": "code",
        "outputId": "6395c55f-8769-4527-bf87-82c70a53c10f",
        "colab": {
          "base_uri": "https://localhost:8080/",
          "height": 1000
        }
      },
      "source": [
        "reduce =tf. keras.callbacks.ReduceLROnPlateau(monitor='val_loss', factor=0.1, patience=5, mode='auto')\n",
        "#early = tf.keras.callbacks.EarlyStopping(monitor='val_loss', min_delta=1e-4, patience=10, mode='auto')\n",
        "model21.compile(optimizer='adam',loss='categorical_crossentropy',metrics=['accuracy'])\n",
        "history1=model21.fit(x_new,y, batch_size=32, epochs=100, validation_split=0.1,callbacks=[reduce])"
      ],
      "execution_count": 0,
      "outputs": [
        {
          "output_type": "stream",
          "text": [
            "Epoch 1/100\n",
            "153/153 [==============================] - 2s 10ms/step - loss: 0.1168 - accuracy: 0.9757 - val_loss: 0.3349 - val_accuracy: 0.9320 - lr: 0.0010\n",
            "Epoch 2/100\n",
            "153/153 [==============================] - 1s 9ms/step - loss: 0.0536 - accuracy: 0.9886 - val_loss: 0.6087 - val_accuracy: 0.8676 - lr: 0.0010\n",
            "Epoch 3/100\n",
            "153/153 [==============================] - 1s 9ms/step - loss: 0.0946 - accuracy: 0.9755 - val_loss: 0.9455 - val_accuracy: 0.8511 - lr: 0.0010\n",
            "Epoch 4/100\n",
            "153/153 [==============================] - 1s 9ms/step - loss: 0.1293 - accuracy: 0.9720 - val_loss: 0.4001 - val_accuracy: 0.9062 - lr: 0.0010\n",
            "Epoch 5/100\n",
            "153/153 [==============================] - 1s 9ms/step - loss: 0.1110 - accuracy: 0.9714 - val_loss: 0.4205 - val_accuracy: 0.9062 - lr: 0.0010\n",
            "Epoch 6/100\n",
            "153/153 [==============================] - 1s 9ms/step - loss: 0.0809 - accuracy: 0.9787 - val_loss: 0.2783 - val_accuracy: 0.9412 - lr: 0.0010\n",
            "Epoch 7/100\n",
            "153/153 [==============================] - 1s 9ms/step - loss: 0.0494 - accuracy: 0.9877 - val_loss: 0.5048 - val_accuracy: 0.9044 - lr: 0.0010\n",
            "Epoch 8/100\n",
            "153/153 [==============================] - 1s 9ms/step - loss: 0.0978 - accuracy: 0.9755 - val_loss: 0.4185 - val_accuracy: 0.9301 - lr: 0.0010\n",
            "Epoch 9/100\n",
            "153/153 [==============================] - 1s 10ms/step - loss: 0.0705 - accuracy: 0.9816 - val_loss: 0.3633 - val_accuracy: 0.9338 - lr: 0.0010\n",
            "Epoch 10/100\n",
            "153/153 [==============================] - 1s 9ms/step - loss: 0.0832 - accuracy: 0.9793 - val_loss: 0.4199 - val_accuracy: 0.9118 - lr: 0.0010\n",
            "Epoch 11/100\n",
            "153/153 [==============================] - 1s 9ms/step - loss: 0.1071 - accuracy: 0.9732 - val_loss: 0.4987 - val_accuracy: 0.9173 - lr: 0.0010\n",
            "Epoch 12/100\n",
            "153/153 [==============================] - 1s 9ms/step - loss: 0.0227 - accuracy: 0.9943 - val_loss: 0.2369 - val_accuracy: 0.9485 - lr: 1.0000e-04\n",
            "Epoch 13/100\n",
            "153/153 [==============================] - 1s 9ms/step - loss: 0.0051 - accuracy: 0.9986 - val_loss: 0.2298 - val_accuracy: 0.9485 - lr: 1.0000e-04\n",
            "Epoch 14/100\n",
            "153/153 [==============================] - 1s 9ms/step - loss: 0.0033 - accuracy: 0.9992 - val_loss: 0.2275 - val_accuracy: 0.9522 - lr: 1.0000e-04\n",
            "Epoch 15/100\n",
            "153/153 [==============================] - 1s 9ms/step - loss: 0.0030 - accuracy: 0.9994 - val_loss: 0.2425 - val_accuracy: 0.9504 - lr: 1.0000e-04\n",
            "Epoch 16/100\n",
            "153/153 [==============================] - 1s 9ms/step - loss: 0.0017 - accuracy: 0.9996 - val_loss: 0.2403 - val_accuracy: 0.9504 - lr: 1.0000e-04\n",
            "Epoch 17/100\n",
            "153/153 [==============================] - 1s 9ms/step - loss: 0.0014 - accuracy: 0.9996 - val_loss: 0.2446 - val_accuracy: 0.9504 - lr: 1.0000e-04\n",
            "Epoch 18/100\n",
            "153/153 [==============================] - 1s 9ms/step - loss: 0.0016 - accuracy: 0.9996 - val_loss: 0.2453 - val_accuracy: 0.9522 - lr: 1.0000e-04\n",
            "Epoch 19/100\n",
            "153/153 [==============================] - 1s 9ms/step - loss: 0.0017 - accuracy: 0.9994 - val_loss: 0.2477 - val_accuracy: 0.9522 - lr: 1.0000e-04\n",
            "Epoch 20/100\n",
            "153/153 [==============================] - 1s 9ms/step - loss: 0.0016 - accuracy: 0.9996 - val_loss: 0.2482 - val_accuracy: 0.9522 - lr: 1.0000e-05\n",
            "Epoch 21/100\n",
            "153/153 [==============================] - 1s 9ms/step - loss: 0.0010 - accuracy: 0.9998 - val_loss: 0.2478 - val_accuracy: 0.9522 - lr: 1.0000e-05\n",
            "Epoch 22/100\n",
            "153/153 [==============================] - 1s 9ms/step - loss: 0.0013 - accuracy: 0.9994 - val_loss: 0.2478 - val_accuracy: 0.9522 - lr: 1.0000e-05\n",
            "Epoch 23/100\n",
            "153/153 [==============================] - 1s 9ms/step - loss: 0.0012 - accuracy: 0.9996 - val_loss: 0.2484 - val_accuracy: 0.9522 - lr: 1.0000e-05\n",
            "Epoch 24/100\n",
            "153/153 [==============================] - 1s 9ms/step - loss: 0.0014 - accuracy: 0.9998 - val_loss: 0.2489 - val_accuracy: 0.9522 - lr: 1.0000e-05\n",
            "Epoch 25/100\n",
            "153/153 [==============================] - 1s 9ms/step - loss: 0.0010 - accuracy: 0.9998 - val_loss: 0.2490 - val_accuracy: 0.9522 - lr: 1.0000e-06\n",
            "Epoch 26/100\n",
            "153/153 [==============================] - 1s 9ms/step - loss: 0.0011 - accuracy: 0.9996 - val_loss: 0.2490 - val_accuracy: 0.9522 - lr: 1.0000e-06\n",
            "Epoch 27/100\n",
            "153/153 [==============================] - 1s 9ms/step - loss: 0.0010 - accuracy: 1.0000 - val_loss: 0.2491 - val_accuracy: 0.9522 - lr: 1.0000e-06\n",
            "Epoch 28/100\n",
            "153/153 [==============================] - 1s 9ms/step - loss: 0.0012 - accuracy: 0.9998 - val_loss: 0.2492 - val_accuracy: 0.9522 - lr: 1.0000e-06\n",
            "Epoch 29/100\n",
            "153/153 [==============================] - 1s 9ms/step - loss: 0.0012 - accuracy: 0.9994 - val_loss: 0.2492 - val_accuracy: 0.9522 - lr: 1.0000e-06\n",
            "Epoch 30/100\n",
            "153/153 [==============================] - 1s 9ms/step - loss: 8.3734e-04 - accuracy: 0.9998 - val_loss: 0.2492 - val_accuracy: 0.9522 - lr: 1.0000e-07\n",
            "Epoch 31/100\n",
            "153/153 [==============================] - 1s 9ms/step - loss: 0.0011 - accuracy: 0.9998 - val_loss: 0.2492 - val_accuracy: 0.9522 - lr: 1.0000e-07\n",
            "Epoch 32/100\n",
            "153/153 [==============================] - 1s 9ms/step - loss: 0.0015 - accuracy: 0.9996 - val_loss: 0.2492 - val_accuracy: 0.9522 - lr: 1.0000e-07\n",
            "Epoch 33/100\n",
            "153/153 [==============================] - 1s 9ms/step - loss: 0.0011 - accuracy: 0.9998 - val_loss: 0.2492 - val_accuracy: 0.9522 - lr: 1.0000e-07\n",
            "Epoch 34/100\n",
            "153/153 [==============================] - 1s 9ms/step - loss: 0.0015 - accuracy: 0.9998 - val_loss: 0.2492 - val_accuracy: 0.9522 - lr: 1.0000e-07\n",
            "Epoch 35/100\n",
            "153/153 [==============================] - 1s 9ms/step - loss: 0.0015 - accuracy: 0.9998 - val_loss: 0.2492 - val_accuracy: 0.9522 - lr: 1.0000e-08\n",
            "Epoch 36/100\n",
            "153/153 [==============================] - 1s 9ms/step - loss: 0.0012 - accuracy: 0.9996 - val_loss: 0.2492 - val_accuracy: 0.9522 - lr: 1.0000e-08\n",
            "Epoch 37/100\n",
            "153/153 [==============================] - 1s 9ms/step - loss: 0.0013 - accuracy: 0.9998 - val_loss: 0.2492 - val_accuracy: 0.9522 - lr: 1.0000e-08\n",
            "Epoch 38/100\n",
            "153/153 [==============================] - 1s 9ms/step - loss: 0.0012 - accuracy: 0.9996 - val_loss: 0.2492 - val_accuracy: 0.9522 - lr: 1.0000e-08\n",
            "Epoch 39/100\n",
            "153/153 [==============================] - 1s 9ms/step - loss: 0.0011 - accuracy: 0.9998 - val_loss: 0.2492 - val_accuracy: 0.9522 - lr: 1.0000e-08\n",
            "Epoch 40/100\n",
            "153/153 [==============================] - 1s 9ms/step - loss: 0.0016 - accuracy: 0.9994 - val_loss: 0.2492 - val_accuracy: 0.9522 - lr: 1.0000e-09\n",
            "Epoch 41/100\n",
            "153/153 [==============================] - 1s 9ms/step - loss: 0.0011 - accuracy: 0.9998 - val_loss: 0.2492 - val_accuracy: 0.9522 - lr: 1.0000e-09\n",
            "Epoch 42/100\n",
            "153/153 [==============================] - 1s 9ms/step - loss: 0.0013 - accuracy: 0.9996 - val_loss: 0.2492 - val_accuracy: 0.9522 - lr: 1.0000e-09\n",
            "Epoch 43/100\n",
            "153/153 [==============================] - 1s 9ms/step - loss: 8.8484e-04 - accuracy: 1.0000 - val_loss: 0.2492 - val_accuracy: 0.9522 - lr: 1.0000e-09\n",
            "Epoch 44/100\n",
            "153/153 [==============================] - 1s 9ms/step - loss: 0.0014 - accuracy: 0.9998 - val_loss: 0.2492 - val_accuracy: 0.9522 - lr: 1.0000e-09\n",
            "Epoch 45/100\n",
            "153/153 [==============================] - 1s 9ms/step - loss: 0.0014 - accuracy: 0.9994 - val_loss: 0.2492 - val_accuracy: 0.9522 - lr: 1.0000e-10\n",
            "Epoch 46/100\n",
            "153/153 [==============================] - 1s 9ms/step - loss: 7.0382e-04 - accuracy: 1.0000 - val_loss: 0.2492 - val_accuracy: 0.9522 - lr: 1.0000e-10\n",
            "Epoch 47/100\n",
            "153/153 [==============================] - 1s 9ms/step - loss: 0.0012 - accuracy: 0.9998 - val_loss: 0.2492 - val_accuracy: 0.9522 - lr: 1.0000e-10\n",
            "Epoch 48/100\n",
            "153/153 [==============================] - 1s 9ms/step - loss: 0.0011 - accuracy: 0.9998 - val_loss: 0.2492 - val_accuracy: 0.9522 - lr: 1.0000e-10\n",
            "Epoch 49/100\n",
            "153/153 [==============================] - 1s 9ms/step - loss: 9.1645e-04 - accuracy: 0.9998 - val_loss: 0.2492 - val_accuracy: 0.9522 - lr: 1.0000e-10\n",
            "Epoch 50/100\n",
            "153/153 [==============================] - 1s 9ms/step - loss: 0.0016 - accuracy: 0.9994 - val_loss: 0.2492 - val_accuracy: 0.9522 - lr: 1.0000e-11\n",
            "Epoch 51/100\n",
            "153/153 [==============================] - 1s 9ms/step - loss: 0.0015 - accuracy: 0.9998 - val_loss: 0.2492 - val_accuracy: 0.9522 - lr: 1.0000e-11\n",
            "Epoch 52/100\n",
            "153/153 [==============================] - 1s 9ms/step - loss: 0.0014 - accuracy: 0.9996 - val_loss: 0.2492 - val_accuracy: 0.9522 - lr: 1.0000e-11\n",
            "Epoch 53/100\n",
            "153/153 [==============================] - 1s 9ms/step - loss: 0.0014 - accuracy: 0.9994 - val_loss: 0.2492 - val_accuracy: 0.9522 - lr: 1.0000e-11\n",
            "Epoch 54/100\n",
            "153/153 [==============================] - 1s 9ms/step - loss: 0.0015 - accuracy: 0.9998 - val_loss: 0.2492 - val_accuracy: 0.9522 - lr: 1.0000e-11\n",
            "Epoch 55/100\n",
            "153/153 [==============================] - 1s 9ms/step - loss: 0.0010 - accuracy: 0.9998 - val_loss: 0.2492 - val_accuracy: 0.9522 - lr: 1.0000e-12\n",
            "Epoch 56/100\n",
            "153/153 [==============================] - 1s 9ms/step - loss: 7.9320e-04 - accuracy: 0.9998 - val_loss: 0.2492 - val_accuracy: 0.9522 - lr: 1.0000e-12\n",
            "Epoch 57/100\n",
            "153/153 [==============================] - 1s 9ms/step - loss: 0.0011 - accuracy: 0.9998 - val_loss: 0.2492 - val_accuracy: 0.9522 - lr: 1.0000e-12\n",
            "Epoch 58/100\n",
            "153/153 [==============================] - 1s 9ms/step - loss: 0.0014 - accuracy: 0.9996 - val_loss: 0.2492 - val_accuracy: 0.9522 - lr: 1.0000e-12\n",
            "Epoch 59/100\n",
            "153/153 [==============================] - 1s 9ms/step - loss: 0.0011 - accuracy: 0.9996 - val_loss: 0.2492 - val_accuracy: 0.9522 - lr: 1.0000e-12\n",
            "Epoch 60/100\n",
            "153/153 [==============================] - 1s 9ms/step - loss: 0.0012 - accuracy: 0.9998 - val_loss: 0.2492 - val_accuracy: 0.9522 - lr: 1.0000e-13\n",
            "Epoch 61/100\n",
            "153/153 [==============================] - 1s 9ms/step - loss: 0.0012 - accuracy: 0.9996 - val_loss: 0.2492 - val_accuracy: 0.9522 - lr: 1.0000e-13\n",
            "Epoch 62/100\n",
            "153/153 [==============================] - 1s 9ms/step - loss: 0.0012 - accuracy: 0.9998 - val_loss: 0.2492 - val_accuracy: 0.9522 - lr: 1.0000e-13\n",
            "Epoch 63/100\n",
            "153/153 [==============================] - 1s 9ms/step - loss: 0.0011 - accuracy: 0.9998 - val_loss: 0.2492 - val_accuracy: 0.9522 - lr: 1.0000e-13\n",
            "Epoch 64/100\n",
            "153/153 [==============================] - 1s 9ms/step - loss: 0.0014 - accuracy: 0.9994 - val_loss: 0.2492 - val_accuracy: 0.9522 - lr: 1.0000e-13\n",
            "Epoch 65/100\n",
            "153/153 [==============================] - 1s 9ms/step - loss: 0.0011 - accuracy: 0.9998 - val_loss: 0.2492 - val_accuracy: 0.9522 - lr: 1.0000e-14\n",
            "Epoch 66/100\n",
            "153/153 [==============================] - 1s 9ms/step - loss: 0.0015 - accuracy: 0.9994 - val_loss: 0.2492 - val_accuracy: 0.9522 - lr: 1.0000e-14\n",
            "Epoch 67/100\n",
            "153/153 [==============================] - 1s 9ms/step - loss: 0.0017 - accuracy: 0.9996 - val_loss: 0.2492 - val_accuracy: 0.9522 - lr: 1.0000e-14\n",
            "Epoch 68/100\n",
            "153/153 [==============================] - 1s 9ms/step - loss: 0.0015 - accuracy: 0.9996 - val_loss: 0.2492 - val_accuracy: 0.9522 - lr: 1.0000e-14\n",
            "Epoch 69/100\n",
            "153/153 [==============================] - 1s 9ms/step - loss: 9.2792e-04 - accuracy: 0.9998 - val_loss: 0.2492 - val_accuracy: 0.9522 - lr: 1.0000e-14\n",
            "Epoch 70/100\n",
            "153/153 [==============================] - 1s 9ms/step - loss: 0.0013 - accuracy: 0.9996 - val_loss: 0.2492 - val_accuracy: 0.9522 - lr: 1.0000e-15\n",
            "Epoch 71/100\n",
            "153/153 [==============================] - 1s 9ms/step - loss: 0.0011 - accuracy: 0.9998 - val_loss: 0.2492 - val_accuracy: 0.9522 - lr: 1.0000e-15\n",
            "Epoch 72/100\n",
            "153/153 [==============================] - 1s 9ms/step - loss: 0.0011 - accuracy: 0.9998 - val_loss: 0.2492 - val_accuracy: 0.9522 - lr: 1.0000e-15\n",
            "Epoch 73/100\n",
            "153/153 [==============================] - 1s 9ms/step - loss: 0.0012 - accuracy: 0.9998 - val_loss: 0.2492 - val_accuracy: 0.9522 - lr: 1.0000e-15\n",
            "Epoch 74/100\n",
            "153/153 [==============================] - 1s 9ms/step - loss: 0.0012 - accuracy: 0.9996 - val_loss: 0.2492 - val_accuracy: 0.9522 - lr: 1.0000e-15\n",
            "Epoch 75/100\n",
            "153/153 [==============================] - 1s 9ms/step - loss: 0.0011 - accuracy: 0.9998 - val_loss: 0.2492 - val_accuracy: 0.9522 - lr: 1.0000e-16\n",
            "Epoch 76/100\n",
            "153/153 [==============================] - 1s 9ms/step - loss: 7.5275e-04 - accuracy: 1.0000 - val_loss: 0.2492 - val_accuracy: 0.9522 - lr: 1.0000e-16\n",
            "Epoch 77/100\n",
            "153/153 [==============================] - 1s 9ms/step - loss: 9.9080e-04 - accuracy: 0.9998 - val_loss: 0.2492 - val_accuracy: 0.9522 - lr: 1.0000e-16\n",
            "Epoch 78/100\n",
            "153/153 [==============================] - 1s 9ms/step - loss: 0.0010 - accuracy: 0.9998 - val_loss: 0.2492 - val_accuracy: 0.9522 - lr: 1.0000e-16\n",
            "Epoch 79/100\n",
            "153/153 [==============================] - 1s 9ms/step - loss: 0.0013 - accuracy: 0.9998 - val_loss: 0.2492 - val_accuracy: 0.9522 - lr: 1.0000e-16\n",
            "Epoch 80/100\n",
            "153/153 [==============================] - 1s 9ms/step - loss: 0.0014 - accuracy: 0.9994 - val_loss: 0.2492 - val_accuracy: 0.9522 - lr: 1.0000e-17\n",
            "Epoch 81/100\n",
            "153/153 [==============================] - 1s 9ms/step - loss: 0.0012 - accuracy: 0.9996 - val_loss: 0.2492 - val_accuracy: 0.9522 - lr: 1.0000e-17\n",
            "Epoch 82/100\n",
            "153/153 [==============================] - 1s 9ms/step - loss: 0.0011 - accuracy: 0.9998 - val_loss: 0.2492 - val_accuracy: 0.9522 - lr: 1.0000e-17\n",
            "Epoch 83/100\n",
            "153/153 [==============================] - 1s 9ms/step - loss: 0.0011 - accuracy: 0.9996 - val_loss: 0.2492 - val_accuracy: 0.9522 - lr: 1.0000e-17\n",
            "Epoch 84/100\n",
            "153/153 [==============================] - 1s 9ms/step - loss: 0.0010 - accuracy: 0.9998 - val_loss: 0.2492 - val_accuracy: 0.9522 - lr: 1.0000e-17\n",
            "Epoch 85/100\n",
            "153/153 [==============================] - 1s 9ms/step - loss: 0.0014 - accuracy: 0.9998 - val_loss: 0.2492 - val_accuracy: 0.9522 - lr: 1.0000e-18\n",
            "Epoch 86/100\n",
            "153/153 [==============================] - 1s 9ms/step - loss: 8.3956e-04 - accuracy: 1.0000 - val_loss: 0.2492 - val_accuracy: 0.9522 - lr: 1.0000e-18\n",
            "Epoch 87/100\n",
            "153/153 [==============================] - 1s 9ms/step - loss: 0.0017 - accuracy: 0.9994 - val_loss: 0.2492 - val_accuracy: 0.9522 - lr: 1.0000e-18\n",
            "Epoch 88/100\n",
            "153/153 [==============================] - 1s 9ms/step - loss: 9.1840e-04 - accuracy: 0.9998 - val_loss: 0.2492 - val_accuracy: 0.9522 - lr: 1.0000e-18\n",
            "Epoch 89/100\n",
            "153/153 [==============================] - 1s 9ms/step - loss: 0.0014 - accuracy: 0.9996 - val_loss: 0.2492 - val_accuracy: 0.9522 - lr: 1.0000e-18\n",
            "Epoch 90/100\n",
            "153/153 [==============================] - 1s 9ms/step - loss: 8.4789e-04 - accuracy: 1.0000 - val_loss: 0.2492 - val_accuracy: 0.9522 - lr: 1.0000e-19\n",
            "Epoch 91/100\n",
            "153/153 [==============================] - 1s 9ms/step - loss: 0.0013 - accuracy: 0.9996 - val_loss: 0.2492 - val_accuracy: 0.9522 - lr: 1.0000e-19\n",
            "Epoch 92/100\n",
            "153/153 [==============================] - 1s 9ms/step - loss: 0.0012 - accuracy: 0.9998 - val_loss: 0.2492 - val_accuracy: 0.9522 - lr: 1.0000e-19\n",
            "Epoch 93/100\n",
            "153/153 [==============================] - 1s 9ms/step - loss: 0.0011 - accuracy: 0.9998 - val_loss: 0.2492 - val_accuracy: 0.9522 - lr: 1.0000e-19\n",
            "Epoch 94/100\n",
            "153/153 [==============================] - 1s 9ms/step - loss: 0.0010 - accuracy: 0.9998 - val_loss: 0.2492 - val_accuracy: 0.9522 - lr: 1.0000e-19\n",
            "Epoch 95/100\n",
            "153/153 [==============================] - 1s 9ms/step - loss: 0.0012 - accuracy: 0.9994 - val_loss: 0.2492 - val_accuracy: 0.9522 - lr: 1.0000e-20\n",
            "Epoch 96/100\n",
            "153/153 [==============================] - 1s 9ms/step - loss: 8.5701e-04 - accuracy: 1.0000 - val_loss: 0.2492 - val_accuracy: 0.9522 - lr: 1.0000e-20\n",
            "Epoch 97/100\n",
            "153/153 [==============================] - 1s 9ms/step - loss: 0.0011 - accuracy: 0.9998 - val_loss: 0.2492 - val_accuracy: 0.9522 - lr: 1.0000e-20\n",
            "Epoch 98/100\n",
            "153/153 [==============================] - 1s 9ms/step - loss: 0.0016 - accuracy: 0.9996 - val_loss: 0.2492 - val_accuracy: 0.9522 - lr: 1.0000e-20\n",
            "Epoch 99/100\n",
            "153/153 [==============================] - 1s 9ms/step - loss: 0.0013 - accuracy: 0.9998 - val_loss: 0.2492 - val_accuracy: 0.9522 - lr: 1.0000e-20\n",
            "Epoch 100/100\n",
            "153/153 [==============================] - 1s 9ms/step - loss: 0.0010 - accuracy: 0.9998 - val_loss: 0.2492 - val_accuracy: 0.9522 - lr: 1.0000e-21\n"
          ],
          "name": "stdout"
        }
      ]
    },
    {
      "cell_type": "code",
      "metadata": {
        "id": "KwpArXbrXzw2",
        "colab_type": "code",
        "colab": {}
      },
      "source": [
        "pred1=model21.predict(x_new_test)\n",
        "b=np.argmax(pred1,axis=1)\n",
        "pred_test1=le.inverse_transform(b)"
      ],
      "execution_count": 0,
      "outputs": []
    },
    {
      "cell_type": "markdown",
      "metadata": {
        "id": "1T0r0tBUX51G",
        "colab_type": "text"
      },
      "source": [
        ""
      ]
    },
    {
      "cell_type": "code",
      "metadata": {
        "id": "uXCci2JeX6d2",
        "colab_type": "code",
        "colab": {}
      },
      "source": [
        "#Generating the Class of the audios for the Test set and saving in a .csv file\n",
        "out_df = pd.DataFrame({'ID':test['ID'].values})\n",
        "out_df .insert(loc=0, column='Class', value=pred_test1)\n",
        "out_df.to_csv('submission1.csv', index=False)"
      ],
      "execution_count": 0,
      "outputs": []
    },
    {
      "cell_type": "code",
      "metadata": {
        "id": "Lf0EMvmGYS8W",
        "colab_type": "code",
        "outputId": "75a924b2-e859-4d62-d310-3e604cf6425f",
        "colab": {
          "base_uri": "https://localhost:8080/",
          "height": 204
        }
      },
      "source": [
        "#Viewing the test file\n",
        "s=pd.read_csv('submission1.csv')\n",
        "s.head(5)"
      ],
      "execution_count": 0,
      "outputs": [
        {
          "output_type": "execute_result",
          "data": {
            "text/html": [
              "<div>\n",
              "<style scoped>\n",
              "    .dataframe tbody tr th:only-of-type {\n",
              "        vertical-align: middle;\n",
              "    }\n",
              "\n",
              "    .dataframe tbody tr th {\n",
              "        vertical-align: top;\n",
              "    }\n",
              "\n",
              "    .dataframe thead th {\n",
              "        text-align: right;\n",
              "    }\n",
              "</style>\n",
              "<table border=\"1\" class=\"dataframe\">\n",
              "  <thead>\n",
              "    <tr style=\"text-align: right;\">\n",
              "      <th></th>\n",
              "      <th>Class</th>\n",
              "      <th>ID</th>\n",
              "    </tr>\n",
              "  </thead>\n",
              "  <tbody>\n",
              "    <tr>\n",
              "      <th>0</th>\n",
              "      <td>drilling</td>\n",
              "      <td>5</td>\n",
              "    </tr>\n",
              "    <tr>\n",
              "      <th>1</th>\n",
              "      <td>children_playing</td>\n",
              "      <td>7</td>\n",
              "    </tr>\n",
              "    <tr>\n",
              "      <th>2</th>\n",
              "      <td>drilling</td>\n",
              "      <td>8</td>\n",
              "    </tr>\n",
              "    <tr>\n",
              "      <th>3</th>\n",
              "      <td>dog_bark</td>\n",
              "      <td>9</td>\n",
              "    </tr>\n",
              "    <tr>\n",
              "      <th>4</th>\n",
              "      <td>street_music</td>\n",
              "      <td>13</td>\n",
              "    </tr>\n",
              "  </tbody>\n",
              "</table>\n",
              "</div>"
            ],
            "text/plain": [
              "              Class  ID\n",
              "0          drilling   5\n",
              "1  children_playing   7\n",
              "2          drilling   8\n",
              "3          dog_bark   9\n",
              "4      street_music  13"
            ]
          },
          "metadata": {
            "tags": []
          },
          "execution_count": 135
        }
      ]
    },
    {
      "cell_type": "code",
      "metadata": {
        "id": "MNb111vJYks8",
        "colab_type": "code",
        "colab": {}
      },
      "source": [
        "acc1=history1.history['accuracy']\n",
        "val_acc1=history1.history['val_accuracy']"
      ],
      "execution_count": 0,
      "outputs": []
    },
    {
      "cell_type": "code",
      "metadata": {
        "id": "RLBGHi7Qyl8k",
        "colab_type": "code",
        "outputId": "20105337-3e61-4331-9a60-0dbee0733f44",
        "colab": {
          "base_uri": "https://localhost:8080/",
          "height": 163
        }
      },
      "source": [
        "acc1.shape\n"
      ],
      "execution_count": 0,
      "outputs": [
        {
          "output_type": "error",
          "ename": "AttributeError",
          "evalue": "ignored",
          "traceback": [
            "\u001b[0;31m---------------------------------------------------------------------------\u001b[0m",
            "\u001b[0;31mAttributeError\u001b[0m                            Traceback (most recent call last)",
            "\u001b[0;32m<ipython-input-128-0f7f98a42c48>\u001b[0m in \u001b[0;36m<module>\u001b[0;34m()\u001b[0m\n\u001b[0;32m----> 1\u001b[0;31m \u001b[0macc1\u001b[0m\u001b[0;34m.\u001b[0m\u001b[0mshape\u001b[0m\u001b[0;34m\u001b[0m\u001b[0;34m\u001b[0m\u001b[0m\n\u001b[0m",
            "\u001b[0;31mAttributeError\u001b[0m: 'list' object has no attribute 'shape'"
          ]
        }
      ]
    },
    {
      "cell_type": "code",
      "metadata": {
        "id": "YtN4AL8u4nQe",
        "colab_type": "code",
        "outputId": "1d86813f-e758-4503-8a99-c9d35d23ded0",
        "colab": {
          "base_uri": "https://localhost:8080/",
          "height": 513
        }
      },
      "source": [
        "#Evaluating Accuracy and Loss of the model\n",
        "%matplotlib inline\n",
        "acc1=history1.history['accuracy']\n",
        "val_acc1=history1.history['val_accuracy']\n",
        "loss1=history1.history['loss']\n",
        "val_loss1=history1.history['val_loss']\n",
        "\n",
        "epochs=range(len(acc)) #No. of epochs\n",
        "\n",
        "#Plot training and validation accuracy per epoch\n",
        "import matplotlib.pyplot as plt\n",
        "plt.plot(epochs,acc1,'b',label='Training Accuracy')\n",
        "plt.plot(epochs,val_acc1,'r',label='Validation Accuracy')\n",
        "plt.legend()\n",
        "plt.figure()\n",
        "\n",
        "#Plot training and validation loss per epoch\n",
        "plt.plot(epochs,loss1,'b',label='Training Loss')\n",
        "plt.plot(epochs,val_loss1,'r',label='Validation Loss')\n",
        "plt.legend()\n",
        "plt.show()"
      ],
      "execution_count": 0,
      "outputs": [
        {
          "output_type": "display_data",
          "data": {
            "image/png": "[encoded data removed]",
            "text/plain": [
              "<Figure size 432x288 with 1 Axes>"
            ]
          },
          "metadata": {
            "tags": [],
            "needs_background": "light"
          }
        },
        {
          "output_type": "display_data",
          "data": {
            "image/png": "[encoded data removed]",
            "text/plain": [
              "<Figure size 432x288 with 1 Axes>"
            ]
          },
          "metadata": {
            "tags": [],
            "needs_background": "light"
          }
        }
      ]
    },
    {
      "cell_type": "code",
      "metadata": {
        "id": "pxeKOjEqyjjx",
        "colab_type": "code",
        "colab": {}
      },
      "source": [
        ""
      ],
      "execution_count": 0,
      "outputs": []
    },
    {
      "cell_type": "code",
      "metadata": {
        "id": "wiO5e_PueA1c",
        "colab_type": "code",
        "colab": {}
      },
      "source": [
        "model30=tf.keras.models.Sequential([\n",
        "    \n",
        "    tf.keras.layers.Conv2D(16,(3,3),dilation_rate=(3, 3),activation='relu',input_shape=(40,174,1)),\n",
        "    tf.keras.layers.MaxPooling2D(pool_size=(2,2)),\n",
        "    #tf.keras.layers.Dropout(0.2),\n",
        "    tf.keras.layers.Conv2D(32,(3,3),dilation_rate=(3, 3),activation='relu',padding='same'),\n",
        "    tf.keras.layers.MaxPooling2D(pool_size=(2,2)),\n",
        "    #tf.keras.layers.Dropout(0.2),\n",
        "    tf.keras.layers.Conv2D(64,(3,3),dilation_rate=(3, 3),activation='relu',padding='same'),\n",
        "    tf.keras.layers.MaxPooling2D(pool_size=(2,2)),\n",
        "    #tf.keras.layers.Dropout(0.2),\n",
        "    tf.keras.layers.Conv2D(128,(3,3),dilation_rate=(3,3),activation='relu',padding='same'),\n",
        "    tf.keras.layers.MaxPooling2D(pool_size=(2,2)),\n",
        "    #tf.keras.layers.Dropout(0.2),\n",
        "    tf.keras.layers.Conv2D(256,(3,3),dilation_rate=(3,3),activation='relu',padding='same'),\n",
        "    tf.keras.layers.MaxPooling2D(pool_size=(2,2)),\n",
        "    #tf.keras.layers.Dropout(0.2),\n",
        "    \n",
        "    tf.keras.layers.Flatten(),\n",
        "    tf.keras.layers.Dense(256,activation='relu'),\n",
        "    tf.keras.layers.Dropout(0.2),\n",
        "    tf.keras.layers.Dense(256,activation='relu'),\n",
        "    tf.keras.layers.Dropout(0.2),\n",
        "    \n",
        "    tf.keras.layers.Dense(10,activation='softmax')\n",
        "])"
      ],
      "execution_count": 0,
      "outputs": []
    },
    {
      "cell_type": "code",
      "metadata": {
        "id": "407Dcn1lGFst",
        "colab_type": "code",
        "outputId": "21fc316a-1015-4e85-f94b-5389720fc105",
        "colab": {
          "base_uri": "https://localhost:8080/",
          "height": 1000
        }
      },
      "source": [
        "reduce =tf. keras.callbacks.ReduceLROnPlateau(monitor='val_loss', factor=0.1, patience=5, mode='auto')\n",
        "#early = tf.keras.callbacks.EarlyStopping(monitor='val_loss', min_delta=1e-4, patience=10, mode='auto')\n",
        "model30.compile(optimizer='adam',loss='categorical_crossentropy',metrics=['accuracy'])\n",
        "history2=model30.fit(x_new,y, batch_size=32, epochs=100, validation_split=0.1,callbacks=[reduce])"
      ],
      "execution_count": 0,
      "outputs": [
        {
          "output_type": "stream",
          "text": [
            "Epoch 1/100\n",
            "153/153 [==============================] - 2s 12ms/step - loss: 1.8695 - accuracy: 0.2985 - val_loss: 1.4716 - val_accuracy: 0.4283 - lr: 0.0010\n",
            "Epoch 2/100\n",
            "153/153 [==============================] - 2s 10ms/step - loss: 1.0908 - accuracy: 0.6095 - val_loss: 0.8416 - val_accuracy: 0.6985 - lr: 0.0010\n",
            "Epoch 3/100\n",
            "153/153 [==============================] - 2s 10ms/step - loss: 0.7304 - accuracy: 0.7636 - val_loss: 0.6383 - val_accuracy: 0.7978 - lr: 0.0010\n",
            "Epoch 4/100\n",
            "153/153 [==============================] - 2s 10ms/step - loss: 0.5373 - accuracy: 0.8229 - val_loss: 0.5406 - val_accuracy: 0.8290 - lr: 0.0010\n",
            "Epoch 5/100\n",
            "153/153 [==============================] - 2s 10ms/step - loss: 0.4407 - accuracy: 0.8536 - val_loss: 0.4531 - val_accuracy: 0.8474 - lr: 0.0010\n",
            "Epoch 6/100\n",
            "153/153 [==============================] - 2s 10ms/step - loss: 0.3380 - accuracy: 0.8896 - val_loss: 0.5104 - val_accuracy: 0.8401 - lr: 0.0010\n",
            "Epoch 7/100\n",
            "153/153 [==============================] - 2s 10ms/step - loss: 0.3546 - accuracy: 0.8849 - val_loss: 0.6509 - val_accuracy: 0.8070 - lr: 0.0010\n",
            "Epoch 8/100\n",
            "153/153 [==============================] - 2s 10ms/step - loss: 0.3051 - accuracy: 0.9033 - val_loss: 0.3869 - val_accuracy: 0.8805 - lr: 0.0010\n",
            "Epoch 9/100\n",
            "153/153 [==============================] - 2s 10ms/step - loss: 0.2372 - accuracy: 0.9205 - val_loss: 0.4671 - val_accuracy: 0.8621 - lr: 0.0010\n",
            "Epoch 10/100\n",
            "153/153 [==============================] - 2s 10ms/step - loss: 0.1928 - accuracy: 0.9338 - val_loss: 0.4114 - val_accuracy: 0.8897 - lr: 0.0010\n",
            "Epoch 11/100\n",
            "153/153 [==============================] - 2s 10ms/step - loss: 0.1786 - accuracy: 0.9432 - val_loss: 0.3701 - val_accuracy: 0.9007 - lr: 0.0010\n",
            "Epoch 12/100\n",
            "153/153 [==============================] - 2s 10ms/step - loss: 0.2039 - accuracy: 0.9348 - val_loss: 0.4185 - val_accuracy: 0.8971 - lr: 0.0010\n",
            "Epoch 13/100\n",
            "153/153 [==============================] - 2s 10ms/step - loss: 0.1646 - accuracy: 0.9468 - val_loss: 0.3274 - val_accuracy: 0.9154 - lr: 0.0010\n",
            "Epoch 14/100\n",
            "153/153 [==============================] - 2s 10ms/step - loss: 0.1507 - accuracy: 0.9524 - val_loss: 0.4728 - val_accuracy: 0.8658 - lr: 0.0010\n",
            "Epoch 15/100\n",
            "153/153 [==============================] - 2s 10ms/step - loss: 0.1399 - accuracy: 0.9569 - val_loss: 0.3634 - val_accuracy: 0.9118 - lr: 0.0010\n",
            "Epoch 16/100\n",
            "153/153 [==============================] - 2s 10ms/step - loss: 0.1373 - accuracy: 0.9571 - val_loss: 0.3532 - val_accuracy: 0.9283 - lr: 0.0010\n",
            "Epoch 17/100\n",
            "153/153 [==============================] - 2s 10ms/step - loss: 0.0967 - accuracy: 0.9685 - val_loss: 0.4719 - val_accuracy: 0.9099 - lr: 0.0010\n",
            "Epoch 18/100\n",
            "153/153 [==============================] - 2s 10ms/step - loss: 0.1323 - accuracy: 0.9585 - val_loss: 0.2834 - val_accuracy: 0.9338 - lr: 0.0010\n",
            "Epoch 19/100\n",
            "153/153 [==============================] - 2s 10ms/step - loss: 0.1599 - accuracy: 0.9571 - val_loss: 0.4328 - val_accuracy: 0.8915 - lr: 0.0010\n",
            "Epoch 20/100\n",
            "153/153 [==============================] - 2s 10ms/step - loss: 0.1005 - accuracy: 0.9697 - val_loss: 0.2789 - val_accuracy: 0.9338 - lr: 0.0010\n",
            "Epoch 21/100\n",
            "153/153 [==============================] - 2s 10ms/step - loss: 0.0563 - accuracy: 0.9826 - val_loss: 0.3742 - val_accuracy: 0.9191 - lr: 0.0010\n",
            "Epoch 22/100\n",
            "153/153 [==============================] - 2s 10ms/step - loss: 0.0692 - accuracy: 0.9820 - val_loss: 0.5558 - val_accuracy: 0.8842 - lr: 0.0010\n",
            "Epoch 23/100\n",
            "153/153 [==============================] - 2s 10ms/step - loss: 0.1772 - accuracy: 0.9509 - val_loss: 0.4578 - val_accuracy: 0.8971 - lr: 0.0010\n",
            "Epoch 24/100\n",
            "153/153 [==============================] - 2s 10ms/step - loss: 0.1080 - accuracy: 0.9691 - val_loss: 0.3818 - val_accuracy: 0.9081 - lr: 0.0010\n",
            "Epoch 25/100\n",
            "153/153 [==============================] - 2s 10ms/step - loss: 0.0813 - accuracy: 0.9769 - val_loss: 0.3335 - val_accuracy: 0.9062 - lr: 0.0010\n",
            "Epoch 26/100\n",
            "153/153 [==============================] - 2s 10ms/step - loss: 0.0256 - accuracy: 0.9933 - val_loss: 0.2628 - val_accuracy: 0.9283 - lr: 1.0000e-04\n",
            "Epoch 27/100\n",
            "153/153 [==============================] - 2s 10ms/step - loss: 0.0105 - accuracy: 0.9982 - val_loss: 0.2675 - val_accuracy: 0.9320 - lr: 1.0000e-04\n",
            "Epoch 28/100\n",
            "153/153 [==============================] - 2s 10ms/step - loss: 0.0069 - accuracy: 0.9990 - val_loss: 0.2630 - val_accuracy: 0.9338 - lr: 1.0000e-04\n",
            "Epoch 29/100\n",
            "153/153 [==============================] - 2s 10ms/step - loss: 0.0046 - accuracy: 0.9994 - val_loss: 0.2720 - val_accuracy: 0.9375 - lr: 1.0000e-04\n",
            "Epoch 30/100\n",
            "153/153 [==============================] - 2s 10ms/step - loss: 0.0032 - accuracy: 0.9998 - val_loss: 0.2772 - val_accuracy: 0.9412 - lr: 1.0000e-04\n",
            "Epoch 31/100\n",
            "153/153 [==============================] - 2s 10ms/step - loss: 0.0026 - accuracy: 0.9998 - val_loss: 0.2860 - val_accuracy: 0.9375 - lr: 1.0000e-04\n",
            "Epoch 32/100\n",
            "153/153 [==============================] - 2s 10ms/step - loss: 0.0021 - accuracy: 0.9996 - val_loss: 0.2865 - val_accuracy: 0.9375 - lr: 1.0000e-05\n",
            "Epoch 33/100\n",
            "153/153 [==============================] - 2s 10ms/step - loss: 0.0025 - accuracy: 0.9996 - val_loss: 0.2870 - val_accuracy: 0.9375 - lr: 1.0000e-05\n",
            "Epoch 34/100\n",
            "153/153 [==============================] - 2s 10ms/step - loss: 0.0021 - accuracy: 0.9998 - val_loss: 0.2878 - val_accuracy: 0.9357 - lr: 1.0000e-05\n",
            "Epoch 35/100\n",
            "153/153 [==============================] - 2s 10ms/step - loss: 0.0015 - accuracy: 0.9998 - val_loss: 0.2890 - val_accuracy: 0.9357 - lr: 1.0000e-05\n",
            "Epoch 36/100\n",
            "153/153 [==============================] - 2s 10ms/step - loss: 0.0016 - accuracy: 1.0000 - val_loss: 0.2905 - val_accuracy: 0.9357 - lr: 1.0000e-05\n",
            "Epoch 37/100\n",
            "153/153 [==============================] - 2s 10ms/step - loss: 0.0021 - accuracy: 0.9998 - val_loss: 0.2906 - val_accuracy: 0.9357 - lr: 1.0000e-06\n",
            "Epoch 38/100\n",
            "153/153 [==============================] - 2s 10ms/step - loss: 0.0023 - accuracy: 0.9996 - val_loss: 0.2906 - val_accuracy: 0.9375 - lr: 1.0000e-06\n",
            "Epoch 39/100\n",
            "153/153 [==============================] - 2s 10ms/step - loss: 0.0015 - accuracy: 1.0000 - val_loss: 0.2908 - val_accuracy: 0.9375 - lr: 1.0000e-06\n",
            "Epoch 40/100\n",
            "153/153 [==============================] - 2s 10ms/step - loss: 0.0017 - accuracy: 1.0000 - val_loss: 0.2909 - val_accuracy: 0.9375 - lr: 1.0000e-06\n",
            "Epoch 41/100\n",
            "153/153 [==============================] - 2s 10ms/step - loss: 0.0022 - accuracy: 0.9996 - val_loss: 0.2909 - val_accuracy: 0.9375 - lr: 1.0000e-06\n",
            "Epoch 42/100\n",
            "153/153 [==============================] - 2s 10ms/step - loss: 0.0017 - accuracy: 0.9998 - val_loss: 0.2909 - val_accuracy: 0.9375 - lr: 1.0000e-07\n",
            "Epoch 43/100\n",
            "153/153 [==============================] - 2s 10ms/step - loss: 0.0019 - accuracy: 0.9998 - val_loss: 0.2910 - val_accuracy: 0.9375 - lr: 1.0000e-07\n",
            "Epoch 44/100\n",
            "153/153 [==============================] - 2s 10ms/step - loss: 0.0018 - accuracy: 0.9998 - val_loss: 0.2910 - val_accuracy: 0.9375 - lr: 1.0000e-07\n",
            "Epoch 45/100\n",
            "153/153 [==============================] - 2s 10ms/step - loss: 0.0017 - accuracy: 0.9998 - val_loss: 0.2910 - val_accuracy: 0.9375 - lr: 1.0000e-07\n",
            "Epoch 46/100\n",
            "153/153 [==============================] - 2s 10ms/step - loss: 0.0016 - accuracy: 1.0000 - val_loss: 0.2910 - val_accuracy: 0.9375 - lr: 1.0000e-07\n",
            "Epoch 47/100\n",
            "153/153 [==============================] - 2s 10ms/step - loss: 0.0015 - accuracy: 1.0000 - val_loss: 0.2910 - val_accuracy: 0.9375 - lr: 1.0000e-08\n",
            "Epoch 48/100\n",
            "153/153 [==============================] - 2s 10ms/step - loss: 0.0014 - accuracy: 1.0000 - val_loss: 0.2910 - val_accuracy: 0.9375 - lr: 1.0000e-08\n",
            "Epoch 49/100\n",
            "153/153 [==============================] - 2s 10ms/step - loss: 0.0016 - accuracy: 1.0000 - val_loss: 0.2910 - val_accuracy: 0.9375 - lr: 1.0000e-08\n",
            "Epoch 50/100\n",
            "153/153 [==============================] - 2s 10ms/step - loss: 0.0021 - accuracy: 0.9998 - val_loss: 0.2910 - val_accuracy: 0.9375 - lr: 1.0000e-08\n",
            "Epoch 51/100\n",
            "153/153 [==============================] - 2s 10ms/step - loss: 0.0019 - accuracy: 0.9998 - val_loss: 0.2910 - val_accuracy: 0.9375 - lr: 1.0000e-08\n",
            "Epoch 52/100\n",
            "153/153 [==============================] - 2s 10ms/step - loss: 0.0020 - accuracy: 0.9996 - val_loss: 0.2910 - val_accuracy: 0.9375 - lr: 1.0000e-09\n",
            "Epoch 53/100\n",
            "153/153 [==============================] - 2s 10ms/step - loss: 0.0018 - accuracy: 0.9998 - val_loss: 0.2910 - val_accuracy: 0.9375 - lr: 1.0000e-09\n",
            "Epoch 54/100\n",
            "153/153 [==============================] - 2s 10ms/step - loss: 0.0019 - accuracy: 0.9998 - val_loss: 0.2910 - val_accuracy: 0.9375 - lr: 1.0000e-09\n",
            "Epoch 55/100\n",
            "153/153 [==============================] - 2s 10ms/step - loss: 0.0015 - accuracy: 1.0000 - val_loss: 0.2910 - val_accuracy: 0.9375 - lr: 1.0000e-09\n",
            "Epoch 56/100\n",
            "153/153 [==============================] - 2s 10ms/step - loss: 0.0019 - accuracy: 1.0000 - val_loss: 0.2910 - val_accuracy: 0.9375 - lr: 1.0000e-09\n",
            "Epoch 57/100\n",
            "153/153 [==============================] - 2s 10ms/step - loss: 0.0017 - accuracy: 1.0000 - val_loss: 0.2910 - val_accuracy: 0.9375 - lr: 1.0000e-10\n",
            "Epoch 58/100\n",
            "153/153 [==============================] - 2s 10ms/step - loss: 0.0026 - accuracy: 0.9996 - val_loss: 0.2910 - val_accuracy: 0.9375 - lr: 1.0000e-10\n",
            "Epoch 59/100\n",
            "153/153 [==============================] - 2s 10ms/step - loss: 0.0020 - accuracy: 0.9996 - val_loss: 0.2910 - val_accuracy: 0.9375 - lr: 1.0000e-10\n",
            "Epoch 60/100\n",
            "153/153 [==============================] - 2s 10ms/step - loss: 0.0018 - accuracy: 1.0000 - val_loss: 0.2910 - val_accuracy: 0.9375 - lr: 1.0000e-10\n",
            "Epoch 61/100\n",
            "153/153 [==============================] - 2s 10ms/step - loss: 0.0019 - accuracy: 0.9998 - val_loss: 0.2910 - val_accuracy: 0.9375 - lr: 1.0000e-10\n",
            "Epoch 62/100\n",
            "153/153 [==============================] - 2s 10ms/step - loss: 0.0020 - accuracy: 0.9998 - val_loss: 0.2910 - val_accuracy: 0.9375 - lr: 1.0000e-11\n",
            "Epoch 63/100\n",
            "153/153 [==============================] - 2s 10ms/step - loss: 0.0020 - accuracy: 0.9998 - val_loss: 0.2910 - val_accuracy: 0.9375 - lr: 1.0000e-11\n",
            "Epoch 64/100\n",
            "153/153 [==============================] - 2s 10ms/step - loss: 0.0019 - accuracy: 1.0000 - val_loss: 0.2910 - val_accuracy: 0.9375 - lr: 1.0000e-11\n",
            "Epoch 65/100\n",
            "153/153 [==============================] - 2s 10ms/step - loss: 0.0019 - accuracy: 0.9998 - val_loss: 0.2910 - val_accuracy: 0.9375 - lr: 1.0000e-11\n",
            "Epoch 66/100\n",
            "153/153 [==============================] - 2s 10ms/step - loss: 0.0020 - accuracy: 0.9998 - val_loss: 0.2910 - val_accuracy: 0.9375 - lr: 1.0000e-11\n",
            "Epoch 67/100\n",
            "153/153 [==============================] - 2s 10ms/step - loss: 0.0018 - accuracy: 0.9998 - val_loss: 0.2910 - val_accuracy: 0.9375 - lr: 1.0000e-12\n",
            "Epoch 68/100\n",
            "153/153 [==============================] - 2s 10ms/step - loss: 0.0018 - accuracy: 1.0000 - val_loss: 0.2910 - val_accuracy: 0.9375 - lr: 1.0000e-12\n",
            "Epoch 69/100\n",
            "153/153 [==============================] - 2s 10ms/step - loss: 0.0018 - accuracy: 1.0000 - val_loss: 0.2910 - val_accuracy: 0.9375 - lr: 1.0000e-12\n",
            "Epoch 70/100\n",
            "153/153 [==============================] - 2s 10ms/step - loss: 0.0015 - accuracy: 1.0000 - val_loss: 0.2910 - val_accuracy: 0.9375 - lr: 1.0000e-12\n",
            "Epoch 71/100\n",
            "153/153 [==============================] - 2s 10ms/step - loss: 0.0018 - accuracy: 0.9998 - val_loss: 0.2910 - val_accuracy: 0.9375 - lr: 1.0000e-12\n",
            "Epoch 72/100\n",
            "153/153 [==============================] - 2s 10ms/step - loss: 0.0019 - accuracy: 0.9998 - val_loss: 0.2910 - val_accuracy: 0.9375 - lr: 1.0000e-13\n",
            "Epoch 73/100\n",
            "153/153 [==============================] - 2s 10ms/step - loss: 0.0023 - accuracy: 0.9998 - val_loss: 0.2910 - val_accuracy: 0.9375 - lr: 1.0000e-13\n",
            "Epoch 74/100\n",
            "153/153 [==============================] - 2s 10ms/step - loss: 0.0023 - accuracy: 0.9998 - val_loss: 0.2910 - val_accuracy: 0.9375 - lr: 1.0000e-13\n",
            "Epoch 75/100\n",
            "153/153 [==============================] - 2s 10ms/step - loss: 0.0017 - accuracy: 1.0000 - val_loss: 0.2910 - val_accuracy: 0.9375 - lr: 1.0000e-13\n",
            "Epoch 76/100\n",
            "153/153 [==============================] - 2s 10ms/step - loss: 0.0016 - accuracy: 1.0000 - val_loss: 0.2910 - val_accuracy: 0.9375 - lr: 1.0000e-13\n",
            "Epoch 77/100\n",
            "153/153 [==============================] - 2s 10ms/step - loss: 0.0019 - accuracy: 0.9998 - val_loss: 0.2910 - val_accuracy: 0.9375 - lr: 1.0000e-14\n",
            "Epoch 78/100\n",
            "153/153 [==============================] - 2s 10ms/step - loss: 0.0022 - accuracy: 0.9996 - val_loss: 0.2910 - val_accuracy: 0.9375 - lr: 1.0000e-14\n",
            "Epoch 79/100\n",
            "153/153 [==============================] - 2s 10ms/step - loss: 0.0019 - accuracy: 0.9998 - val_loss: 0.2910 - val_accuracy: 0.9375 - lr: 1.0000e-14\n",
            "Epoch 80/100\n",
            "153/153 [==============================] - 2s 10ms/step - loss: 0.0014 - accuracy: 1.0000 - val_loss: 0.2910 - val_accuracy: 0.9375 - lr: 1.0000e-14\n",
            "Epoch 81/100\n",
            "153/153 [==============================] - 2s 10ms/step - loss: 0.0021 - accuracy: 0.9998 - val_loss: 0.2910 - val_accuracy: 0.9375 - lr: 1.0000e-14\n",
            "Epoch 82/100\n",
            "153/153 [==============================] - 2s 10ms/step - loss: 0.0017 - accuracy: 1.0000 - val_loss: 0.2910 - val_accuracy: 0.9375 - lr: 1.0000e-15\n",
            "Epoch 83/100\n",
            "153/153 [==============================] - 2s 10ms/step - loss: 0.0018 - accuracy: 0.9998 - val_loss: 0.2910 - val_accuracy: 0.9375 - lr: 1.0000e-15\n",
            "Epoch 84/100\n",
            "153/153 [==============================] - 2s 10ms/step - loss: 0.0019 - accuracy: 0.9998 - val_loss: 0.2910 - val_accuracy: 0.9375 - lr: 1.0000e-15\n",
            "Epoch 85/100\n",
            "153/153 [==============================] - 2s 10ms/step - loss: 0.0020 - accuracy: 1.0000 - val_loss: 0.2910 - val_accuracy: 0.9375 - lr: 1.0000e-15\n",
            "Epoch 86/100\n",
            "153/153 [==============================] - 2s 10ms/step - loss: 0.0019 - accuracy: 0.9996 - val_loss: 0.2910 - val_accuracy: 0.9375 - lr: 1.0000e-15\n",
            "Epoch 87/100\n",
            "153/153 [==============================] - 2s 10ms/step - loss: 0.0021 - accuracy: 0.9998 - val_loss: 0.2910 - val_accuracy: 0.9375 - lr: 1.0000e-16\n",
            "Epoch 88/100\n",
            "153/153 [==============================] - 2s 10ms/step - loss: 0.0021 - accuracy: 1.0000 - val_loss: 0.2910 - val_accuracy: 0.9375 - lr: 1.0000e-16\n",
            "Epoch 89/100\n",
            "153/153 [==============================] - 2s 10ms/step - loss: 0.0024 - accuracy: 0.9994 - val_loss: 0.2910 - val_accuracy: 0.9375 - lr: 1.0000e-16\n",
            "Epoch 90/100\n",
            "153/153 [==============================] - 2s 10ms/step - loss: 0.0018 - accuracy: 1.0000 - val_loss: 0.2910 - val_accuracy: 0.9375 - lr: 1.0000e-16\n",
            "Epoch 91/100\n",
            "153/153 [==============================] - 2s 10ms/step - loss: 0.0021 - accuracy: 0.9996 - val_loss: 0.2910 - val_accuracy: 0.9375 - lr: 1.0000e-16\n",
            "Epoch 92/100\n",
            "153/153 [==============================] - 2s 10ms/step - loss: 0.0020 - accuracy: 1.0000 - val_loss: 0.2910 - val_accuracy: 0.9375 - lr: 1.0000e-17\n",
            "Epoch 93/100\n",
            "153/153 [==============================] - 2s 10ms/step - loss: 0.0019 - accuracy: 0.9998 - val_loss: 0.2910 - val_accuracy: 0.9375 - lr: 1.0000e-17\n",
            "Epoch 94/100\n",
            "153/153 [==============================] - 2s 10ms/step - loss: 0.0016 - accuracy: 0.9998 - val_loss: 0.2910 - val_accuracy: 0.9375 - lr: 1.0000e-17\n",
            "Epoch 95/100\n",
            "153/153 [==============================] - 2s 10ms/step - loss: 0.0016 - accuracy: 1.0000 - val_loss: 0.2910 - val_accuracy: 0.9375 - lr: 1.0000e-17\n",
            "Epoch 96/100\n",
            "153/153 [==============================] - 2s 10ms/step - loss: 0.0021 - accuracy: 1.0000 - val_loss: 0.2910 - val_accuracy: 0.9375 - lr: 1.0000e-17\n",
            "Epoch 97/100\n",
            "153/153 [==============================] - 2s 10ms/step - loss: 0.0018 - accuracy: 1.0000 - val_loss: 0.2910 - val_accuracy: 0.9375 - lr: 1.0000e-18\n",
            "Epoch 98/100\n",
            "153/153 [==============================] - 2s 10ms/step - loss: 0.0018 - accuracy: 1.0000 - val_loss: 0.2910 - val_accuracy: 0.9375 - lr: 1.0000e-18\n",
            "Epoch 99/100\n",
            "153/153 [==============================] - 2s 10ms/step - loss: 0.0017 - accuracy: 1.0000 - val_loss: 0.2910 - val_accuracy: 0.9375 - lr: 1.0000e-18\n",
            "Epoch 100/100\n",
            "153/153 [==============================] - 2s 10ms/step - loss: 0.0022 - accuracy: 0.9996 - val_loss: 0.2910 - val_accuracy: 0.9375 - lr: 1.0000e-18\n"
          ],
          "name": "stdout"
        }
      ]
    },
    {
      "cell_type": "markdown",
      "metadata": {
        "id": "thb_a_6o5WMR",
        "colab_type": "text"
      },
      "source": [
        "\n",
        "\n",
        "\n",
        "\n",
        "\n",
        "\n",
        "\n",
        "\n",
        "\n",
        "\n",
        "\n",
        "\n",
        "\n",
        "\n",
        "\n",
        "\n",
        "\n",
        "\n",
        "\n",
        "\n",
        "\n",
        "\n",
        "\n",
        "\n",
        "\n",
        "\n",
        "\n",
        "\n",
        "\n",
        "\n",
        "\n",
        "\n",
        "\n",
        "\n",
        "\n",
        "\n",
        "\n",
        "\n",
        "\n",
        "\n",
        "\n",
        "\n",
        "\n",
        "\n",
        "\n",
        "\n",
        "\n",
        "\n",
        "\n",
        "\n",
        "\n",
        "\n",
        "\n",
        "\n",
        "\n",
        "\n",
        "\n",
        "\n",
        "\n",
        "\n",
        "\n",
        "\n",
        "\n",
        "\n",
        "\n",
        "\n",
        "\n",
        "\n",
        "\n",
        "\n",
        "\n",
        "\n",
        "\n",
        "\n",
        "\n",
        "\n",
        "\n",
        "\n",
        "\n",
        "\n",
        "\n",
        "\n",
        "\n",
        "\n",
        "\n",
        "\n",
        "\n",
        "\n",
        "\n",
        "\n",
        "\n",
        "\n",
        "\n",
        "\n",
        "\n",
        "\n",
        "\n",
        "\n",
        "\n",
        "\n",
        "\n",
        "\n",
        "\n",
        "\n",
        "\n",
        "\n",
        "\n",
        "\n",
        "\n",
        "\n",
        "\n",
        "\n",
        "\n",
        "\n",
        "\n",
        "\n",
        "\n",
        "\n",
        "\n",
        "\n",
        "\n",
        "\n",
        "\n",
        "\n",
        "\n",
        "\n",
        "\n",
        "\n",
        "\n",
        "\n",
        "\n",
        "### **Compared to the MLP model, the CNN model achieves higher accuracy in both training and validation sets. Also, no overfitting can be observed in the graphs above.**"
      ]
    },
    {
      "cell_type": "code",
      "metadata": {
        "id": "7s_YrPEQ3MGN",
        "colab_type": "code",
        "colab": {}
      },
      "source": [
        "#Determining the classes of the audios in the test set. We do not have the labels for the test set. I will generate a submission file that would contain the ID\n",
        "#and classes of the samples in the test set.\n",
        "pred2=model30.predict(x_new_test)\n",
        "b=np.argmax(pred2,axis=1)\n",
        "pred_test2=le.inverse_transform(b)"
      ],
      "execution_count": 0,
      "outputs": []
    },
    {
      "cell_type": "code",
      "metadata": {
        "id": "ifZiO_g2x6RM",
        "colab_type": "code",
        "colab": {}
      },
      "source": [
        ""
      ],
      "execution_count": 0,
      "outputs": []
    },
    {
      "cell_type": "code",
      "metadata": {
        "id": "tNzotFucx72L",
        "colab_type": "code",
        "colab": {}
      },
      "source": [
        ""
      ],
      "execution_count": 0,
      "outputs": []
    },
    {
      "cell_type": "code",
      "metadata": {
        "id": "vb3tc90E3U0n",
        "colab_type": "code",
        "colab": {}
      },
      "source": [
        "#Generating the Class of the audios for the Test set and saving in a .csv file\n",
        "out_df = pd.DataFrame({'ID':test['ID'].values})\n",
        "out_df .insert(loc=0, column='Class', value=pred_test2)\n",
        "out_df.to_csv('submission2.csv', index=False)"
      ],
      "execution_count": 0,
      "outputs": []
    },
    {
      "cell_type": "code",
      "metadata": {
        "id": "PkGr4rIT3Y61",
        "colab_type": "code",
        "outputId": "2eebd4ab-3fab-4634-fbe9-0d400369f242",
        "colab": {
          "base_uri": "https://localhost:8080/",
          "height": 204
        }
      },
      "source": [
        "#Viewing the test file\n",
        "s=pd.read_csv('submission2.csv')\n",
        "s.head(5)"
      ],
      "execution_count": 0,
      "outputs": [
        {
          "output_type": "execute_result",
          "data": {
            "text/html": [
              "<div>\n",
              "<style scoped>\n",
              "    .dataframe tbody tr th:only-of-type {\n",
              "        vertical-align: middle;\n",
              "    }\n",
              "\n",
              "    .dataframe tbody tr th {\n",
              "        vertical-align: top;\n",
              "    }\n",
              "\n",
              "    .dataframe thead th {\n",
              "        text-align: right;\n",
              "    }\n",
              "</style>\n",
              "<table border=\"1\" class=\"dataframe\">\n",
              "  <thead>\n",
              "    <tr style=\"text-align: right;\">\n",
              "      <th></th>\n",
              "      <th>Class</th>\n",
              "      <th>ID</th>\n",
              "    </tr>\n",
              "  </thead>\n",
              "  <tbody>\n",
              "    <tr>\n",
              "      <th>0</th>\n",
              "      <td>drilling</td>\n",
              "      <td>5</td>\n",
              "    </tr>\n",
              "    <tr>\n",
              "      <th>1</th>\n",
              "      <td>children_playing</td>\n",
              "      <td>7</td>\n",
              "    </tr>\n",
              "    <tr>\n",
              "      <th>2</th>\n",
              "      <td>drilling</td>\n",
              "      <td>8</td>\n",
              "    </tr>\n",
              "    <tr>\n",
              "      <th>3</th>\n",
              "      <td>dog_bark</td>\n",
              "      <td>9</td>\n",
              "    </tr>\n",
              "    <tr>\n",
              "      <th>4</th>\n",
              "      <td>street_music</td>\n",
              "      <td>13</td>\n",
              "    </tr>\n",
              "  </tbody>\n",
              "</table>\n",
              "</div>"
            ],
            "text/plain": [
              "              Class  ID\n",
              "0          drilling   5\n",
              "1  children_playing   7\n",
              "2          drilling   8\n",
              "3          dog_bark   9\n",
              "4      street_music  13"
            ]
          },
          "metadata": {
            "tags": []
          },
          "execution_count": 141
        }
      ]
    },
    {
      "cell_type": "code",
      "metadata": {
        "id": "GKn2m5W8Uwzq",
        "colab_type": "code",
        "outputId": "029d6bc3-c268-486b-e440-49a2e1d9e51e",
        "colab": {
          "base_uri": "https://localhost:8080/",
          "height": 51
        }
      },
      "source": [
        "[test_loss, test_acc] = model2.evaluate(x_new,y)\n",
        "print(\"Loss = {}, accuracy = {}\".format(test_loss, test_acc))"
      ],
      "execution_count": 0,
      "outputs": [
        {
          "output_type": "stream",
          "text": [
            "170/170 [==============================] - 1s 4ms/step - loss: 0.0784 - accuracy: 0.9798\n",
            "Loss = 0.07843289524316788, accuracy = 0.9797608256340027\n"
          ],
          "name": "stdout"
        }
      ]
    },
    {
      "cell_type": "code",
      "metadata": {
        "id": "zUmsAijjV6QV",
        "colab_type": "code",
        "outputId": "23d9842e-8398-488e-ce65-06d18272fb33",
        "colab": {
          "base_uri": "https://localhost:8080/",
          "height": 513
        }
      },
      "source": [
        "#Evaluating Accuracy and Loss of the model\n",
        "%matplotlib inline\n",
        "acc2=history2.history['accuracy']\n",
        "val_acc2=history2.history['val_accuracy']\n",
        "loss2=history2.history['loss']\n",
        "val_loss2=history2.history['val_loss']\n",
        "\n",
        "epochs=range(len(acc)) #No. of epochs\n",
        "\n",
        "#Plot training and validation accuracy per epoch\n",
        "import matplotlib.pyplot as plt\n",
        "plt.plot(epochs,acc2,'b',label='Training Accuracy')\n",
        "plt.plot(epochs,val_acc2,'r',label='Validation Accuracy')\n",
        "plt.legend()\n",
        "plt.figure()\n",
        "\n",
        "#Plot training and validation loss per epoch\n",
        "plt.plot(epochs,loss2,'b',label='Training Loss')\n",
        "plt.plot(epochs,val_loss2,'r',label='Validation Loss')\n",
        "plt.legend()\n",
        "plt.show()"
      ],
      "execution_count": 0,
      "outputs": [
        {
          "output_type": "display_data",
          "data": {
            "image/png": "[encoded data removed]",
            "text/plain": [
              "<Figure size 432x288 with 1 Axes>"
            ]
          },
          "metadata": {
            "tags": [],
            "needs_background": "light"
          }
        },
        {
          "output_type": "display_data",
          "data": {
            "image/png": "[encoded data removed]",
            "text/plain": [
              "<Figure size 432x288 with 1 Axes>"
            ]
          },
          "metadata": {
            "tags": [],
            "needs_background": "light"
          }
        }
      ]
    },
    {
      "cell_type": "code",
      "metadata": {
        "id": "WTi49NWuU-jI",
        "colab_type": "code",
        "colab": {}
      },
      "source": [
        ""
      ],
      "execution_count": 0,
      "outputs": []
    },
    {
      "cell_type": "code",
      "metadata": {
        "id": "dI56Af7TVEz3",
        "colab_type": "code",
        "outputId": "b46d87a2-e494-42f2-d9ef-d65533b5d266",
        "colab": {
          "base_uri": "https://localhost:8080/",
          "height": 394
        }
      },
      "source": [
        "[test_loss, test_acc] = model2.evaluate(x_test,y)\n",
        "print(\"Loss = {}, accuracy = {}\".format(test_loss, test_acc))"
      ],
      "execution_count": 0,
      "outputs": [
        {
          "output_type": "error",
          "ename": "ValueError",
          "evalue": "ignored",
          "traceback": [
            "\u001b[0;31m---------------------------------------------------------------------------\u001b[0m",
            "\u001b[0;31mValueError\u001b[0m                                Traceback (most recent call last)",
            "\u001b[0;32m<ipython-input-93-418ac267ba30>\u001b[0m in \u001b[0;36m<module>\u001b[0;34m()\u001b[0m\n\u001b[0;32m----> 1\u001b[0;31m \u001b[0;34m[\u001b[0m\u001b[0mtest_loss\u001b[0m\u001b[0;34m,\u001b[0m \u001b[0mtest_acc\u001b[0m\u001b[0;34m]\u001b[0m \u001b[0;34m=\u001b[0m \u001b[0mmodel2\u001b[0m\u001b[0;34m.\u001b[0m\u001b[0mevaluate\u001b[0m\u001b[0;34m(\u001b[0m\u001b[0mx_test\u001b[0m\u001b[0;34m,\u001b[0m\u001b[0my\u001b[0m\u001b[0;34m)\u001b[0m\u001b[0;34m\u001b[0m\u001b[0;34m\u001b[0m\u001b[0m\n\u001b[0m\u001b[1;32m      2\u001b[0m \u001b[0mprint\u001b[0m\u001b[0;34m(\u001b[0m\u001b[0;34m\"Loss = {}, accuracy = {}\"\u001b[0m\u001b[0;34m.\u001b[0m\u001b[0mformat\u001b[0m\u001b[0;34m(\u001b[0m\u001b[0mtest_loss\u001b[0m\u001b[0;34m,\u001b[0m \u001b[0mtest_acc\u001b[0m\u001b[0;34m)\u001b[0m\u001b[0;34m)\u001b[0m\u001b[0;34m\u001b[0m\u001b[0;34m\u001b[0m\u001b[0m\n",
            "\u001b[0;32m/usr/local/lib/python3.6/dist-packages/tensorflow/python/keras/engine/training.py\u001b[0m in \u001b[0;36m_method_wrapper\u001b[0;34m(self, *args, **kwargs)\u001b[0m\n\u001b[1;32m     64\u001b[0m   \u001b[0;32mdef\u001b[0m \u001b[0m_method_wrapper\u001b[0m\u001b[0;34m(\u001b[0m\u001b[0mself\u001b[0m\u001b[0;34m,\u001b[0m \u001b[0;34m*\u001b[0m\u001b[0margs\u001b[0m\u001b[0;34m,\u001b[0m \u001b[0;34m**\u001b[0m\u001b[0mkwargs\u001b[0m\u001b[0;34m)\u001b[0m\u001b[0;34m:\u001b[0m\u001b[0;34m\u001b[0m\u001b[0;34m\u001b[0m\u001b[0m\n\u001b[1;32m     65\u001b[0m     \u001b[0;32mif\u001b[0m \u001b[0;32mnot\u001b[0m \u001b[0mself\u001b[0m\u001b[0;34m.\u001b[0m\u001b[0m_in_multi_worker_mode\u001b[0m\u001b[0;34m(\u001b[0m\u001b[0;34m)\u001b[0m\u001b[0;34m:\u001b[0m  \u001b[0;31m# pylint: disable=protected-access\u001b[0m\u001b[0;34m\u001b[0m\u001b[0;34m\u001b[0m\u001b[0m\n\u001b[0;32m---> 66\u001b[0;31m       \u001b[0;32mreturn\u001b[0m \u001b[0mmethod\u001b[0m\u001b[0;34m(\u001b[0m\u001b[0mself\u001b[0m\u001b[0;34m,\u001b[0m \u001b[0;34m*\u001b[0m\u001b[0margs\u001b[0m\u001b[0;34m,\u001b[0m \u001b[0;34m**\u001b[0m\u001b[0mkwargs\u001b[0m\u001b[0;34m)\u001b[0m\u001b[0;34m\u001b[0m\u001b[0;34m\u001b[0m\u001b[0m\n\u001b[0m\u001b[1;32m     67\u001b[0m \u001b[0;34m\u001b[0m\u001b[0m\n\u001b[1;32m     68\u001b[0m     \u001b[0;31m# Running inside `run_distribute_coordinator` already.\u001b[0m\u001b[0;34m\u001b[0m\u001b[0;34m\u001b[0m\u001b[0;34m\u001b[0m\u001b[0m\n",
            "\u001b[0;32m/usr/local/lib/python3.6/dist-packages/tensorflow/python/keras/engine/training.py\u001b[0m in \u001b[0;36mevaluate\u001b[0;34m(self, x, y, batch_size, verbose, sample_weight, steps, callbacks, max_queue_size, workers, use_multiprocessing, return_dict)\u001b[0m\n\u001b[1;32m   1058\u001b[0m           \u001b[0mworkers\u001b[0m\u001b[0;34m=\u001b[0m\u001b[0mworkers\u001b[0m\u001b[0;34m,\u001b[0m\u001b[0;34m\u001b[0m\u001b[0;34m\u001b[0m\u001b[0m\n\u001b[1;32m   1059\u001b[0m           \u001b[0muse_multiprocessing\u001b[0m\u001b[0;34m=\u001b[0m\u001b[0muse_multiprocessing\u001b[0m\u001b[0;34m,\u001b[0m\u001b[0;34m\u001b[0m\u001b[0;34m\u001b[0m\u001b[0m\n\u001b[0;32m-> 1060\u001b[0;31m           model=self)\n\u001b[0m\u001b[1;32m   1061\u001b[0m \u001b[0;34m\u001b[0m\u001b[0m\n\u001b[1;32m   1062\u001b[0m       \u001b[0;31m# Container that configures and calls `tf.keras.Callback`s.\u001b[0m\u001b[0;34m\u001b[0m\u001b[0;34m\u001b[0m\u001b[0;34m\u001b[0m\u001b[0m\n",
            "\u001b[0;32m/usr/local/lib/python3.6/dist-packages/tensorflow/python/keras/engine/data_adapter.py\u001b[0m in \u001b[0;36m__init__\u001b[0;34m(self, x, y, sample_weight, batch_size, steps_per_epoch, initial_epoch, epochs, shuffle, class_weight, max_queue_size, workers, use_multiprocessing, model)\u001b[0m\n\u001b[1;32m   1110\u001b[0m         \u001b[0muse_multiprocessing\u001b[0m\u001b[0;34m=\u001b[0m\u001b[0muse_multiprocessing\u001b[0m\u001b[0;34m,\u001b[0m\u001b[0;34m\u001b[0m\u001b[0;34m\u001b[0m\u001b[0m\n\u001b[1;32m   1111\u001b[0m         \u001b[0mdistribution_strategy\u001b[0m\u001b[0;34m=\u001b[0m\u001b[0mds_context\u001b[0m\u001b[0;34m.\u001b[0m\u001b[0mget_strategy\u001b[0m\u001b[0;34m(\u001b[0m\u001b[0;34m)\u001b[0m\u001b[0;34m,\u001b[0m\u001b[0;34m\u001b[0m\u001b[0;34m\u001b[0m\u001b[0m\n\u001b[0;32m-> 1112\u001b[0;31m         model=model)\n\u001b[0m\u001b[1;32m   1113\u001b[0m \u001b[0;34m\u001b[0m\u001b[0m\n\u001b[1;32m   1114\u001b[0m     \u001b[0mstrategy\u001b[0m \u001b[0;34m=\u001b[0m \u001b[0mds_context\u001b[0m\u001b[0;34m.\u001b[0m\u001b[0mget_strategy\u001b[0m\u001b[0;34m(\u001b[0m\u001b[0;34m)\u001b[0m\u001b[0;34m\u001b[0m\u001b[0;34m\u001b[0m\u001b[0m\n",
            "\u001b[0;32m/usr/local/lib/python3.6/dist-packages/tensorflow/python/keras/engine/data_adapter.py\u001b[0m in \u001b[0;36m__init__\u001b[0;34m(self, x, y, sample_weights, sample_weight_modes, batch_size, epochs, steps, shuffle, **kwargs)\u001b[0m\n\u001b[1;32m    280\u001b[0m             label, \", \".join(str(i.shape[0]) for i in nest.flatten(data)))\n\u001b[1;32m    281\u001b[0m       \u001b[0mmsg\u001b[0m \u001b[0;34m+=\u001b[0m \u001b[0;34m\"Please provide data which shares the same first dimension.\"\u001b[0m\u001b[0;34m\u001b[0m\u001b[0;34m\u001b[0m\u001b[0m\n\u001b[0;32m--> 282\u001b[0;31m       \u001b[0;32mraise\u001b[0m \u001b[0mValueError\u001b[0m\u001b[0;34m(\u001b[0m\u001b[0mmsg\u001b[0m\u001b[0;34m)\u001b[0m\u001b[0;34m\u001b[0m\u001b[0;34m\u001b[0m\u001b[0m\n\u001b[0m\u001b[1;32m    283\u001b[0m     \u001b[0mnum_samples\u001b[0m \u001b[0;34m=\u001b[0m \u001b[0mnum_samples\u001b[0m\u001b[0;34m.\u001b[0m\u001b[0mpop\u001b[0m\u001b[0;34m(\u001b[0m\u001b[0;34m)\u001b[0m\u001b[0;34m\u001b[0m\u001b[0;34m\u001b[0m\u001b[0m\n\u001b[1;32m    284\u001b[0m \u001b[0;34m\u001b[0m\u001b[0m\n",
            "\u001b[0;31mValueError\u001b[0m: Data cardinality is ambiguous:\n  x sizes: 3297\n  y sizes: 5435\nPlease provide data which shares the same first dimension."
          ]
        }
      ]
    },
    {
      "cell_type": "code",
      "metadata": {
        "id": "-6NmizOs_6VC",
        "colab_type": "code",
        "colab": {}
      },
      "source": [
        "#NORMAL CNN\n",
        "\n",
        "import tensorflow as tf\n",
        "#from keras import regularizers\n",
        "\n",
        "model29=tf.keras.models.Sequential([\n",
        "    \n",
        "    tf.keras.layers.Conv2D(16,(3,3),activation='relu',input_shape=(40,174,1)),\n",
        "    tf.keras.layers.MaxPooling2D(2,2),\n",
        "    tf.keras.layers.Dropout(0.2),\n",
        "    tf.keras.layers.Conv2D(32,(3,3),activation='relu'),\n",
        "    tf.keras.layers.MaxPooling2D(2,2),\n",
        "    tf.keras.layers.Dropout(0.2),\n",
        "    tf.keras.layers.Conv2D(64,(3,3),activation='relu'),\n",
        "    tf.keras.layers.MaxPooling2D(2,2),\n",
        "    tf.keras.layers.Dropout(0.2),\n",
        "    tf.keras.layers.Conv2D(128,(3,3),activation='relu',padding='same'),\n",
        "    tf.keras.layers.MaxPooling2D(2,2),\n",
        "    tf.keras.layers.Dropout(0.4),\n",
        "    \n",
        "    \n",
        "    tf.keras.layers.Flatten(),\n",
        "    tf.keras.layers.Dense(256,activation='relu'),\n",
        "    tf.keras.layers.Dropout(0.5),\n",
        "    tf.keras.layers.Dense(256,activation='relu'),\n",
        "    tf.keras.layers.Dropout(0.5),\n",
        "    \n",
        "    tf.keras.layers.Dense(10,activation='softmax')\n",
        "])"
      ],
      "execution_count": 0,
      "outputs": []
    },
    {
      "cell_type": "code",
      "metadata": {
        "id": "gH3684p1pQMt",
        "colab_type": "code",
        "outputId": "fd712cb7-014f-48cb-8e1e-f1e12637181d",
        "colab": {
          "base_uri": "https://localhost:8080/",
          "height": 1000
        }
      },
      "source": [
        "reduce =tf. keras.callbacks.ReduceLROnPlateau(monitor='val_loss', factor=0.1, patience=10, mode='auto')\n",
        "#early = tf.keras.callbacks.EarlyStopping(monitor='val_loss', min_delta=1e-4, patience=10, mode='auto')\n",
        "model29.compile(optimizer='adam',loss='categorical_crossentropy',metrics=['accuracy'])\n",
        "history3=model29.fit(x_new,y, batch_size=32, epochs=100, validation_split=0.1,callbacks=[reduce])"
      ],
      "execution_count": 0,
      "outputs": [
        {
          "output_type": "stream",
          "text": [
            "Epoch 1/100\n",
            "153/153 [==============================] - 1s 7ms/step - loss: 2.5977 - accuracy: 0.1552 - val_loss: 2.1065 - val_accuracy: 0.2886 - lr: 0.0010\n",
            "Epoch 2/100\n",
            "153/153 [==============================] - 1s 6ms/step - loss: 1.9234 - accuracy: 0.2965 - val_loss: 1.7912 - val_accuracy: 0.4099 - lr: 0.0010\n",
            "Epoch 3/100\n",
            "153/153 [==============================] - 1s 6ms/step - loss: 1.6728 - accuracy: 0.3872 - val_loss: 1.5270 - val_accuracy: 0.5074 - lr: 0.0010\n",
            "Epoch 4/100\n",
            "153/153 [==============================] - 1s 6ms/step - loss: 1.4336 - accuracy: 0.4929 - val_loss: 1.3465 - val_accuracy: 0.5680 - lr: 0.0010\n",
            "Epoch 5/100\n",
            "153/153 [==============================] - 1s 6ms/step - loss: 1.2311 - accuracy: 0.5794 - val_loss: 1.0914 - val_accuracy: 0.6452 - lr: 0.0010\n",
            "Epoch 6/100\n",
            "153/153 [==============================] - 1s 6ms/step - loss: 1.0391 - accuracy: 0.6424 - val_loss: 0.9717 - val_accuracy: 0.7040 - lr: 0.0010\n",
            "Epoch 7/100\n",
            "153/153 [==============================] - 1s 6ms/step - loss: 0.9290 - accuracy: 0.6923 - val_loss: 0.8680 - val_accuracy: 0.7390 - lr: 0.0010\n",
            "Epoch 8/100\n",
            "153/153 [==============================] - 1s 6ms/step - loss: 0.8039 - accuracy: 0.7379 - val_loss: 0.8355 - val_accuracy: 0.7261 - lr: 0.0010\n",
            "Epoch 9/100\n",
            "153/153 [==============================] - 1s 6ms/step - loss: 0.7156 - accuracy: 0.7749 - val_loss: 0.6822 - val_accuracy: 0.7923 - lr: 0.0010\n",
            "Epoch 10/100\n",
            "153/153 [==============================] - 1s 6ms/step - loss: 0.6848 - accuracy: 0.7776 - val_loss: 0.7110 - val_accuracy: 0.7739 - lr: 0.0010\n",
            "Epoch 11/100\n",
            "153/153 [==============================] - 1s 6ms/step - loss: 0.6105 - accuracy: 0.7988 - val_loss: 0.5393 - val_accuracy: 0.8346 - lr: 0.0010\n",
            "Epoch 12/100\n",
            "153/153 [==============================] - 1s 6ms/step - loss: 0.5872 - accuracy: 0.8127 - val_loss: 0.5432 - val_accuracy: 0.8364 - lr: 0.0010\n",
            "Epoch 13/100\n",
            "153/153 [==============================] - 1s 6ms/step - loss: 0.5071 - accuracy: 0.8334 - val_loss: 0.4884 - val_accuracy: 0.8456 - lr: 0.0010\n",
            "Epoch 14/100\n",
            "153/153 [==============================] - 1s 6ms/step - loss: 0.5326 - accuracy: 0.8325 - val_loss: 0.5161 - val_accuracy: 0.8382 - lr: 0.0010\n",
            "Epoch 15/100\n",
            "153/153 [==============================] - 1s 6ms/step - loss: 0.4728 - accuracy: 0.8477 - val_loss: 0.4878 - val_accuracy: 0.8309 - lr: 0.0010\n",
            "Epoch 16/100\n",
            "153/153 [==============================] - 1s 6ms/step - loss: 0.4844 - accuracy: 0.8448 - val_loss: 0.4594 - val_accuracy: 0.8511 - lr: 0.0010\n",
            "Epoch 17/100\n",
            "153/153 [==============================] - 1s 6ms/step - loss: 0.4372 - accuracy: 0.8571 - val_loss: 0.5352 - val_accuracy: 0.8364 - lr: 0.0010\n",
            "Epoch 18/100\n",
            "153/153 [==============================] - 1s 6ms/step - loss: 0.4027 - accuracy: 0.8651 - val_loss: 0.4465 - val_accuracy: 0.8695 - lr: 0.0010\n",
            "Epoch 19/100\n",
            "153/153 [==============================] - 1s 6ms/step - loss: 0.4141 - accuracy: 0.8671 - val_loss: 0.4305 - val_accuracy: 0.8750 - lr: 0.0010\n",
            "Epoch 20/100\n",
            "153/153 [==============================] - 1s 6ms/step - loss: 0.3743 - accuracy: 0.8806 - val_loss: 0.4359 - val_accuracy: 0.8695 - lr: 0.0010\n",
            "Epoch 21/100\n",
            "153/153 [==============================] - 1s 6ms/step - loss: 0.3779 - accuracy: 0.8806 - val_loss: 0.4180 - val_accuracy: 0.8695 - lr: 0.0010\n",
            "Epoch 22/100\n",
            "153/153 [==============================] - 1s 6ms/step - loss: 0.3757 - accuracy: 0.8794 - val_loss: 0.3891 - val_accuracy: 0.8842 - lr: 0.0010\n",
            "Epoch 23/100\n",
            "153/153 [==============================] - 1s 6ms/step - loss: 0.3482 - accuracy: 0.8855 - val_loss: 0.3752 - val_accuracy: 0.8915 - lr: 0.0010\n",
            "Epoch 24/100\n",
            "153/153 [==============================] - 1s 6ms/step - loss: 0.3790 - accuracy: 0.8812 - val_loss: 0.3740 - val_accuracy: 0.8768 - lr: 0.0010\n",
            "Epoch 25/100\n",
            "153/153 [==============================] - 1s 6ms/step - loss: 0.3063 - accuracy: 0.9015 - val_loss: 0.3570 - val_accuracy: 0.8879 - lr: 0.0010\n",
            "Epoch 26/100\n",
            "153/153 [==============================] - 1s 6ms/step - loss: 0.3307 - accuracy: 0.8951 - val_loss: 0.3513 - val_accuracy: 0.8989 - lr: 0.0010\n",
            "Epoch 27/100\n",
            "153/153 [==============================] - 1s 6ms/step - loss: 0.3316 - accuracy: 0.8945 - val_loss: 0.3722 - val_accuracy: 0.8842 - lr: 0.0010\n",
            "Epoch 28/100\n",
            "153/153 [==============================] - 1s 6ms/step - loss: 0.3788 - accuracy: 0.8806 - val_loss: 0.3369 - val_accuracy: 0.8952 - lr: 0.0010\n",
            "Epoch 29/100\n",
            "153/153 [==============================] - 1s 6ms/step - loss: 0.2770 - accuracy: 0.9098 - val_loss: 0.4060 - val_accuracy: 0.8860 - lr: 0.0010\n",
            "Epoch 30/100\n",
            "153/153 [==============================] - 1s 6ms/step - loss: 0.2590 - accuracy: 0.9160 - val_loss: 0.3663 - val_accuracy: 0.8713 - lr: 0.0010\n",
            "Epoch 31/100\n",
            "153/153 [==============================] - 1s 6ms/step - loss: 0.3088 - accuracy: 0.9025 - val_loss: 0.3623 - val_accuracy: 0.9007 - lr: 0.0010\n",
            "Epoch 32/100\n",
            "153/153 [==============================] - 1s 6ms/step - loss: 0.2995 - accuracy: 0.8996 - val_loss: 0.3958 - val_accuracy: 0.8750 - lr: 0.0010\n",
            "Epoch 33/100\n",
            "153/153 [==============================] - 1s 6ms/step - loss: 0.2327 - accuracy: 0.9276 - val_loss: 0.3652 - val_accuracy: 0.8971 - lr: 0.0010\n",
            "Epoch 34/100\n",
            "153/153 [==============================] - 1s 6ms/step - loss: 0.2767 - accuracy: 0.9188 - val_loss: 0.3647 - val_accuracy: 0.9026 - lr: 0.0010\n",
            "Epoch 35/100\n",
            "153/153 [==============================] - 1s 6ms/step - loss: 0.3117 - accuracy: 0.9066 - val_loss: 0.3534 - val_accuracy: 0.8934 - lr: 0.0010\n",
            "Epoch 36/100\n",
            "153/153 [==============================] - 1s 6ms/step - loss: 0.2562 - accuracy: 0.9217 - val_loss: 0.3211 - val_accuracy: 0.9026 - lr: 0.0010\n",
            "Epoch 37/100\n",
            "153/153 [==============================] - 1s 6ms/step - loss: 0.2330 - accuracy: 0.9256 - val_loss: 0.3513 - val_accuracy: 0.8971 - lr: 0.0010\n",
            "Epoch 38/100\n",
            "153/153 [==============================] - 1s 6ms/step - loss: 0.2499 - accuracy: 0.9286 - val_loss: 0.4374 - val_accuracy: 0.8952 - lr: 0.0010\n",
            "Epoch 39/100\n",
            "153/153 [==============================] - 1s 6ms/step - loss: 0.2708 - accuracy: 0.9180 - val_loss: 0.3355 - val_accuracy: 0.9173 - lr: 0.0010\n",
            "Epoch 40/100\n",
            "153/153 [==============================] - 1s 6ms/step - loss: 0.1991 - accuracy: 0.9358 - val_loss: 0.3893 - val_accuracy: 0.8805 - lr: 0.0010\n",
            "Epoch 41/100\n",
            "153/153 [==============================] - 1s 6ms/step - loss: 0.2668 - accuracy: 0.9217 - val_loss: 0.3489 - val_accuracy: 0.8860 - lr: 0.0010\n",
            "Epoch 42/100\n",
            "153/153 [==============================] - 1s 6ms/step - loss: 0.2118 - accuracy: 0.9319 - val_loss: 0.3295 - val_accuracy: 0.8989 - lr: 0.0010\n",
            "Epoch 43/100\n",
            "153/153 [==============================] - 1s 6ms/step - loss: 0.2298 - accuracy: 0.9293 - val_loss: 0.4489 - val_accuracy: 0.8805 - lr: 0.0010\n",
            "Epoch 44/100\n",
            "153/153 [==============================] - 1s 6ms/step - loss: 0.2538 - accuracy: 0.9194 - val_loss: 0.3213 - val_accuracy: 0.8952 - lr: 0.0010\n",
            "Epoch 45/100\n",
            "153/153 [==============================] - 1s 6ms/step - loss: 0.2185 - accuracy: 0.9340 - val_loss: 0.4570 - val_accuracy: 0.8787 - lr: 0.0010\n",
            "Epoch 46/100\n",
            "153/153 [==============================] - 1s 6ms/step - loss: 0.2406 - accuracy: 0.9309 - val_loss: 0.3370 - val_accuracy: 0.8989 - lr: 0.0010\n",
            "Epoch 47/100\n",
            "153/153 [==============================] - 1s 6ms/step - loss: 0.1643 - accuracy: 0.9493 - val_loss: 0.3144 - val_accuracy: 0.9154 - lr: 1.0000e-04\n",
            "Epoch 48/100\n",
            "153/153 [==============================] - 1s 6ms/step - loss: 0.1304 - accuracy: 0.9562 - val_loss: 0.3095 - val_accuracy: 0.9118 - lr: 1.0000e-04\n",
            "Epoch 49/100\n",
            "153/153 [==============================] - 1s 6ms/step - loss: 0.1222 - accuracy: 0.9612 - val_loss: 0.3013 - val_accuracy: 0.9118 - lr: 1.0000e-04\n",
            "Epoch 50/100\n",
            "153/153 [==============================] - 1s 6ms/step - loss: 0.1236 - accuracy: 0.9626 - val_loss: 0.2977 - val_accuracy: 0.9173 - lr: 1.0000e-04\n",
            "Epoch 51/100\n",
            "153/153 [==============================] - 1s 6ms/step - loss: 0.1159 - accuracy: 0.9638 - val_loss: 0.2674 - val_accuracy: 0.9283 - lr: 1.0000e-04\n",
            "Epoch 52/100\n",
            "153/153 [==============================] - 1s 6ms/step - loss: 0.1105 - accuracy: 0.9632 - val_loss: 0.2916 - val_accuracy: 0.9246 - lr: 1.0000e-04\n",
            "Epoch 53/100\n",
            "153/153 [==============================] - 1s 6ms/step - loss: 0.1082 - accuracy: 0.9644 - val_loss: 0.2744 - val_accuracy: 0.9246 - lr: 1.0000e-04\n",
            "Epoch 54/100\n",
            "153/153 [==============================] - 1s 6ms/step - loss: 0.1048 - accuracy: 0.9689 - val_loss: 0.2808 - val_accuracy: 0.9246 - lr: 1.0000e-04\n",
            "Epoch 55/100\n",
            "153/153 [==============================] - 1s 6ms/step - loss: 0.1082 - accuracy: 0.9663 - val_loss: 0.2768 - val_accuracy: 0.9246 - lr: 1.0000e-04\n",
            "Epoch 56/100\n",
            "153/153 [==============================] - 1s 6ms/step - loss: 0.0926 - accuracy: 0.9687 - val_loss: 0.2671 - val_accuracy: 0.9301 - lr: 1.0000e-04\n",
            "Epoch 57/100\n",
            "153/153 [==============================] - 1s 6ms/step - loss: 0.0917 - accuracy: 0.9667 - val_loss: 0.2694 - val_accuracy: 0.9283 - lr: 1.0000e-04\n",
            "Epoch 58/100\n",
            "153/153 [==============================] - 1s 6ms/step - loss: 0.0921 - accuracy: 0.9701 - val_loss: 0.2735 - val_accuracy: 0.9246 - lr: 1.0000e-04\n",
            "Epoch 59/100\n",
            "153/153 [==============================] - 1s 6ms/step - loss: 0.0914 - accuracy: 0.9701 - val_loss: 0.2785 - val_accuracy: 0.9246 - lr: 1.0000e-04\n",
            "Epoch 60/100\n",
            "153/153 [==============================] - 1s 6ms/step - loss: 0.0797 - accuracy: 0.9734 - val_loss: 0.2723 - val_accuracy: 0.9191 - lr: 1.0000e-04\n",
            "Epoch 61/100\n",
            "153/153 [==============================] - 1s 6ms/step - loss: 0.0786 - accuracy: 0.9740 - val_loss: 0.2612 - val_accuracy: 0.9283 - lr: 1.0000e-04\n",
            "Epoch 62/100\n",
            "153/153 [==============================] - 1s 6ms/step - loss: 0.0780 - accuracy: 0.9734 - val_loss: 0.2751 - val_accuracy: 0.9228 - lr: 1.0000e-04\n",
            "Epoch 63/100\n",
            "153/153 [==============================] - 1s 6ms/step - loss: 0.0847 - accuracy: 0.9716 - val_loss: 0.2807 - val_accuracy: 0.9301 - lr: 1.0000e-04\n",
            "Epoch 64/100\n",
            "153/153 [==============================] - 1s 6ms/step - loss: 0.0758 - accuracy: 0.9744 - val_loss: 0.2827 - val_accuracy: 0.9301 - lr: 1.0000e-04\n",
            "Epoch 65/100\n",
            "153/153 [==============================] - 1s 6ms/step - loss: 0.0830 - accuracy: 0.9726 - val_loss: 0.2731 - val_accuracy: 0.9338 - lr: 1.0000e-04\n",
            "Epoch 66/100\n",
            "153/153 [==============================] - 1s 6ms/step - loss: 0.0790 - accuracy: 0.9742 - val_loss: 0.2807 - val_accuracy: 0.9265 - lr: 1.0000e-04\n",
            "Epoch 67/100\n",
            "153/153 [==============================] - 1s 6ms/step - loss: 0.0671 - accuracy: 0.9789 - val_loss: 0.2755 - val_accuracy: 0.9357 - lr: 1.0000e-04\n",
            "Epoch 68/100\n",
            "153/153 [==============================] - 1s 6ms/step - loss: 0.0743 - accuracy: 0.9791 - val_loss: 0.3018 - val_accuracy: 0.9265 - lr: 1.0000e-04\n",
            "Epoch 69/100\n",
            "153/153 [==============================] - 1s 6ms/step - loss: 0.0688 - accuracy: 0.9751 - val_loss: 0.3212 - val_accuracy: 0.9338 - lr: 1.0000e-04\n",
            "Epoch 70/100\n",
            "153/153 [==============================] - 1s 6ms/step - loss: 0.0717 - accuracy: 0.9777 - val_loss: 0.2943 - val_accuracy: 0.9375 - lr: 1.0000e-04\n",
            "Epoch 71/100\n",
            "153/153 [==============================] - 1s 6ms/step - loss: 0.0641 - accuracy: 0.9777 - val_loss: 0.2877 - val_accuracy: 0.9301 - lr: 1.0000e-04\n",
            "Epoch 72/100\n",
            "153/153 [==============================] - 1s 6ms/step - loss: 0.0678 - accuracy: 0.9785 - val_loss: 0.2891 - val_accuracy: 0.9301 - lr: 1.0000e-05\n",
            "Epoch 73/100\n",
            "153/153 [==============================] - 1s 6ms/step - loss: 0.0546 - accuracy: 0.9822 - val_loss: 0.2911 - val_accuracy: 0.9301 - lr: 1.0000e-05\n",
            "Epoch 74/100\n",
            "153/153 [==============================] - 1s 6ms/step - loss: 0.0592 - accuracy: 0.9804 - val_loss: 0.2919 - val_accuracy: 0.9301 - lr: 1.0000e-05\n",
            "Epoch 75/100\n",
            "153/153 [==============================] - 1s 6ms/step - loss: 0.0604 - accuracy: 0.9812 - val_loss: 0.2900 - val_accuracy: 0.9265 - lr: 1.0000e-05\n",
            "Epoch 76/100\n",
            "153/153 [==============================] - 1s 6ms/step - loss: 0.0682 - accuracy: 0.9777 - val_loss: 0.2858 - val_accuracy: 0.9301 - lr: 1.0000e-05\n",
            "Epoch 77/100\n",
            "153/153 [==============================] - 1s 6ms/step - loss: 0.0636 - accuracy: 0.9787 - val_loss: 0.2868 - val_accuracy: 0.9301 - lr: 1.0000e-05\n",
            "Epoch 78/100\n",
            "153/153 [==============================] - 1s 6ms/step - loss: 0.0614 - accuracy: 0.9785 - val_loss: 0.2872 - val_accuracy: 0.9301 - lr: 1.0000e-05\n",
            "Epoch 79/100\n",
            "153/153 [==============================] - 1s 6ms/step - loss: 0.0689 - accuracy: 0.9781 - val_loss: 0.2890 - val_accuracy: 0.9283 - lr: 1.0000e-05\n",
            "Epoch 80/100\n",
            "153/153 [==============================] - 1s 6ms/step - loss: 0.0720 - accuracy: 0.9783 - val_loss: 0.2884 - val_accuracy: 0.9283 - lr: 1.0000e-05\n",
            "Epoch 81/100\n",
            "153/153 [==============================] - 1s 6ms/step - loss: 0.0544 - accuracy: 0.9836 - val_loss: 0.2894 - val_accuracy: 0.9283 - lr: 1.0000e-05\n",
            "Epoch 82/100\n",
            "153/153 [==============================] - 1s 6ms/step - loss: 0.0644 - accuracy: 0.9789 - val_loss: 0.2893 - val_accuracy: 0.9283 - lr: 1.0000e-06\n",
            "Epoch 83/100\n",
            "153/153 [==============================] - 1s 6ms/step - loss: 0.0722 - accuracy: 0.9751 - val_loss: 0.2880 - val_accuracy: 0.9283 - lr: 1.0000e-06\n",
            "Epoch 84/100\n",
            "153/153 [==============================] - 1s 6ms/step - loss: 0.0546 - accuracy: 0.9793 - val_loss: 0.2877 - val_accuracy: 0.9283 - lr: 1.0000e-06\n",
            "Epoch 85/100\n",
            "153/153 [==============================] - 1s 6ms/step - loss: 0.0613 - accuracy: 0.9798 - val_loss: 0.2875 - val_accuracy: 0.9283 - lr: 1.0000e-06\n",
            "Epoch 86/100\n",
            "153/153 [==============================] - 1s 6ms/step - loss: 0.0686 - accuracy: 0.9781 - val_loss: 0.2864 - val_accuracy: 0.9283 - lr: 1.0000e-06\n",
            "Epoch 87/100\n",
            "153/153 [==============================] - 1s 6ms/step - loss: 0.0678 - accuracy: 0.9757 - val_loss: 0.2868 - val_accuracy: 0.9283 - lr: 1.0000e-06\n",
            "Epoch 88/100\n",
            "153/153 [==============================] - 1s 6ms/step - loss: 0.0739 - accuracy: 0.9767 - val_loss: 0.2862 - val_accuracy: 0.9283 - lr: 1.0000e-06\n",
            "Epoch 89/100\n",
            "153/153 [==============================] - 1s 6ms/step - loss: 0.0580 - accuracy: 0.9822 - val_loss: 0.2857 - val_accuracy: 0.9301 - lr: 1.0000e-06\n",
            "Epoch 90/100\n",
            "153/153 [==============================] - 1s 6ms/step - loss: 0.0674 - accuracy: 0.9783 - val_loss: 0.2852 - val_accuracy: 0.9301 - lr: 1.0000e-06\n",
            "Epoch 91/100\n",
            "153/153 [==============================] - 1s 6ms/step - loss: 0.0646 - accuracy: 0.9773 - val_loss: 0.2850 - val_accuracy: 0.9301 - lr: 1.0000e-06\n",
            "Epoch 92/100\n",
            "153/153 [==============================] - 1s 6ms/step - loss: 0.0635 - accuracy: 0.9796 - val_loss: 0.2850 - val_accuracy: 0.9301 - lr: 1.0000e-07\n",
            "Epoch 93/100\n",
            "153/153 [==============================] - 1s 6ms/step - loss: 0.0733 - accuracy: 0.9773 - val_loss: 0.2849 - val_accuracy: 0.9301 - lr: 1.0000e-07\n",
            "Epoch 94/100\n",
            "153/153 [==============================] - 1s 6ms/step - loss: 0.0581 - accuracy: 0.9787 - val_loss: 0.2849 - val_accuracy: 0.9301 - lr: 1.0000e-07\n",
            "Epoch 95/100\n",
            "153/153 [==============================] - 1s 6ms/step - loss: 0.0664 - accuracy: 0.9763 - val_loss: 0.2849 - val_accuracy: 0.9301 - lr: 1.0000e-07\n",
            "Epoch 96/100\n",
            "153/153 [==============================] - 1s 6ms/step - loss: 0.0589 - accuracy: 0.9779 - val_loss: 0.2849 - val_accuracy: 0.9301 - lr: 1.0000e-07\n",
            "Epoch 97/100\n",
            "153/153 [==============================] - 1s 6ms/step - loss: 0.0710 - accuracy: 0.9763 - val_loss: 0.2849 - val_accuracy: 0.9301 - lr: 1.0000e-07\n",
            "Epoch 98/100\n",
            "153/153 [==============================] - 1s 6ms/step - loss: 0.0573 - accuracy: 0.9812 - val_loss: 0.2848 - val_accuracy: 0.9301 - lr: 1.0000e-07\n",
            "Epoch 99/100\n",
            "153/153 [==============================] - 1s 6ms/step - loss: 0.0567 - accuracy: 0.9806 - val_loss: 0.2848 - val_accuracy: 0.9301 - lr: 1.0000e-07\n",
            "Epoch 100/100\n",
            "153/153 [==============================] - 1s 6ms/step - loss: 0.0612 - accuracy: 0.9789 - val_loss: 0.2848 - val_accuracy: 0.9301 - lr: 1.0000e-07\n"
          ],
          "name": "stdout"
        }
      ]
    },
    {
      "cell_type": "code",
      "metadata": {
        "id": "DZROIUQ6WDt0",
        "colab_type": "code",
        "colab": {}
      },
      "source": [
        "#Determining the classes of the audios in the test set. We do not have the labels for the test set. I will generate a submission file that would contain the ID\n",
        "#and classes of the samples in the test set.\n",
        "pred3=model29.predict(x_new_test)\n",
        "b=np.argmax(pred3,axis=1)\n",
        "pred_test3=le.inverse_transform(b)"
      ],
      "execution_count": 0,
      "outputs": []
    },
    {
      "cell_type": "code",
      "metadata": {
        "id": "5n7R20BoWE3i",
        "colab_type": "code",
        "colab": {}
      },
      "source": [
        "#Generating the Class of the audios for the Test set and saving in a .csv file\n",
        "out_df = pd.DataFrame({'ID':test['ID'].values})\n",
        "out_df .insert(loc=0, column='Class', value=pred_test3)\n",
        "out_df.to_csv('submission3.csv', index=False)"
      ],
      "execution_count": 0,
      "outputs": []
    },
    {
      "cell_type": "code",
      "metadata": {
        "id": "iP_xh9DpWN73",
        "colab_type": "code",
        "outputId": "9acb0978-098f-4186-8572-a7c491bc5c33",
        "colab": {
          "base_uri": "https://localhost:8080/",
          "height": 204
        }
      },
      "source": [
        "#Viewing the test file\n",
        "s=pd.read_csv('submission3.csv')\n",
        "s.head(5)"
      ],
      "execution_count": 0,
      "outputs": [
        {
          "output_type": "execute_result",
          "data": {
            "text/html": [
              "<div>\n",
              "<style scoped>\n",
              "    .dataframe tbody tr th:only-of-type {\n",
              "        vertical-align: middle;\n",
              "    }\n",
              "\n",
              "    .dataframe tbody tr th {\n",
              "        vertical-align: top;\n",
              "    }\n",
              "\n",
              "    .dataframe thead th {\n",
              "        text-align: right;\n",
              "    }\n",
              "</style>\n",
              "<table border=\"1\" class=\"dataframe\">\n",
              "  <thead>\n",
              "    <tr style=\"text-align: right;\">\n",
              "      <th></th>\n",
              "      <th>Class</th>\n",
              "      <th>ID</th>\n",
              "    </tr>\n",
              "  </thead>\n",
              "  <tbody>\n",
              "    <tr>\n",
              "      <th>0</th>\n",
              "      <td>jackhammer</td>\n",
              "      <td>5</td>\n",
              "    </tr>\n",
              "    <tr>\n",
              "      <th>1</th>\n",
              "      <td>children_playing</td>\n",
              "      <td>7</td>\n",
              "    </tr>\n",
              "    <tr>\n",
              "      <th>2</th>\n",
              "      <td>drilling</td>\n",
              "      <td>8</td>\n",
              "    </tr>\n",
              "    <tr>\n",
              "      <th>3</th>\n",
              "      <td>dog_bark</td>\n",
              "      <td>9</td>\n",
              "    </tr>\n",
              "    <tr>\n",
              "      <th>4</th>\n",
              "      <td>street_music</td>\n",
              "      <td>13</td>\n",
              "    </tr>\n",
              "  </tbody>\n",
              "</table>\n",
              "</div>"
            ],
            "text/plain": [
              "              Class  ID\n",
              "0        jackhammer   5\n",
              "1  children_playing   7\n",
              "2          drilling   8\n",
              "3          dog_bark   9\n",
              "4      street_music  13"
            ]
          },
          "metadata": {
            "tags": []
          },
          "execution_count": 145
        }
      ]
    },
    {
      "cell_type": "code",
      "metadata": {
        "id": "dhwsNkH0qKTe",
        "colab_type": "code",
        "outputId": "feb5ebe9-0e24-4f97-9c1c-a3c281c997e4",
        "colab": {
          "base_uri": "https://localhost:8080/",
          "height": 394
        }
      },
      "source": [
        "[test_loss, test_acc] = model2.evaluate(x_test,y)\n",
        "print(\"Loss = {}, accuracy = {}\".format(test_loss, test_acc))"
      ],
      "execution_count": 0,
      "outputs": [
        {
          "output_type": "error",
          "ename": "ValueError",
          "evalue": "ignored",
          "traceback": [
            "\u001b[0;31m---------------------------------------------------------------------------\u001b[0m",
            "\u001b[0;31mValueError\u001b[0m                                Traceback (most recent call last)",
            "\u001b[0;32m<ipython-input-146-418ac267ba30>\u001b[0m in \u001b[0;36m<module>\u001b[0;34m()\u001b[0m\n\u001b[0;32m----> 1\u001b[0;31m \u001b[0;34m[\u001b[0m\u001b[0mtest_loss\u001b[0m\u001b[0;34m,\u001b[0m \u001b[0mtest_acc\u001b[0m\u001b[0;34m]\u001b[0m \u001b[0;34m=\u001b[0m \u001b[0mmodel2\u001b[0m\u001b[0;34m.\u001b[0m\u001b[0mevaluate\u001b[0m\u001b[0;34m(\u001b[0m\u001b[0mx_test\u001b[0m\u001b[0;34m,\u001b[0m\u001b[0my\u001b[0m\u001b[0;34m)\u001b[0m\u001b[0;34m\u001b[0m\u001b[0;34m\u001b[0m\u001b[0m\n\u001b[0m\u001b[1;32m      2\u001b[0m \u001b[0mprint\u001b[0m\u001b[0;34m(\u001b[0m\u001b[0;34m\"Loss = {}, accuracy = {}\"\u001b[0m\u001b[0;34m.\u001b[0m\u001b[0mformat\u001b[0m\u001b[0;34m(\u001b[0m\u001b[0mtest_loss\u001b[0m\u001b[0;34m,\u001b[0m \u001b[0mtest_acc\u001b[0m\u001b[0;34m)\u001b[0m\u001b[0;34m)\u001b[0m\u001b[0;34m\u001b[0m\u001b[0;34m\u001b[0m\u001b[0m\n",
            "\u001b[0;32m/usr/local/lib/python3.6/dist-packages/tensorflow/python/keras/engine/training.py\u001b[0m in \u001b[0;36m_method_wrapper\u001b[0;34m(self, *args, **kwargs)\u001b[0m\n\u001b[1;32m     64\u001b[0m   \u001b[0;32mdef\u001b[0m \u001b[0m_method_wrapper\u001b[0m\u001b[0;34m(\u001b[0m\u001b[0mself\u001b[0m\u001b[0;34m,\u001b[0m \u001b[0;34m*\u001b[0m\u001b[0margs\u001b[0m\u001b[0;34m,\u001b[0m \u001b[0;34m**\u001b[0m\u001b[0mkwargs\u001b[0m\u001b[0;34m)\u001b[0m\u001b[0;34m:\u001b[0m\u001b[0;34m\u001b[0m\u001b[0;34m\u001b[0m\u001b[0m\n\u001b[1;32m     65\u001b[0m     \u001b[0;32mif\u001b[0m \u001b[0;32mnot\u001b[0m \u001b[0mself\u001b[0m\u001b[0;34m.\u001b[0m\u001b[0m_in_multi_worker_mode\u001b[0m\u001b[0;34m(\u001b[0m\u001b[0;34m)\u001b[0m\u001b[0;34m:\u001b[0m  \u001b[0;31m# pylint: disable=protected-access\u001b[0m\u001b[0;34m\u001b[0m\u001b[0;34m\u001b[0m\u001b[0m\n\u001b[0;32m---> 66\u001b[0;31m       \u001b[0;32mreturn\u001b[0m \u001b[0mmethod\u001b[0m\u001b[0;34m(\u001b[0m\u001b[0mself\u001b[0m\u001b[0;34m,\u001b[0m \u001b[0;34m*\u001b[0m\u001b[0margs\u001b[0m\u001b[0;34m,\u001b[0m \u001b[0;34m**\u001b[0m\u001b[0mkwargs\u001b[0m\u001b[0;34m)\u001b[0m\u001b[0;34m\u001b[0m\u001b[0;34m\u001b[0m\u001b[0m\n\u001b[0m\u001b[1;32m     67\u001b[0m \u001b[0;34m\u001b[0m\u001b[0m\n\u001b[1;32m     68\u001b[0m     \u001b[0;31m# Running inside `run_distribute_coordinator` already.\u001b[0m\u001b[0;34m\u001b[0m\u001b[0;34m\u001b[0m\u001b[0;34m\u001b[0m\u001b[0m\n",
            "\u001b[0;32m/usr/local/lib/python3.6/dist-packages/tensorflow/python/keras/engine/training.py\u001b[0m in \u001b[0;36mevaluate\u001b[0;34m(self, x, y, batch_size, verbose, sample_weight, steps, callbacks, max_queue_size, workers, use_multiprocessing, return_dict)\u001b[0m\n\u001b[1;32m   1058\u001b[0m           \u001b[0mworkers\u001b[0m\u001b[0;34m=\u001b[0m\u001b[0mworkers\u001b[0m\u001b[0;34m,\u001b[0m\u001b[0;34m\u001b[0m\u001b[0;34m\u001b[0m\u001b[0m\n\u001b[1;32m   1059\u001b[0m           \u001b[0muse_multiprocessing\u001b[0m\u001b[0;34m=\u001b[0m\u001b[0muse_multiprocessing\u001b[0m\u001b[0;34m,\u001b[0m\u001b[0;34m\u001b[0m\u001b[0;34m\u001b[0m\u001b[0m\n\u001b[0;32m-> 1060\u001b[0;31m           model=self)\n\u001b[0m\u001b[1;32m   1061\u001b[0m \u001b[0;34m\u001b[0m\u001b[0m\n\u001b[1;32m   1062\u001b[0m       \u001b[0;31m# Container that configures and calls `tf.keras.Callback`s.\u001b[0m\u001b[0;34m\u001b[0m\u001b[0;34m\u001b[0m\u001b[0;34m\u001b[0m\u001b[0m\n",
            "\u001b[0;32m/usr/local/lib/python3.6/dist-packages/tensorflow/python/keras/engine/data_adapter.py\u001b[0m in \u001b[0;36m__init__\u001b[0;34m(self, x, y, sample_weight, batch_size, steps_per_epoch, initial_epoch, epochs, shuffle, class_weight, max_queue_size, workers, use_multiprocessing, model)\u001b[0m\n\u001b[1;32m   1110\u001b[0m         \u001b[0muse_multiprocessing\u001b[0m\u001b[0;34m=\u001b[0m\u001b[0muse_multiprocessing\u001b[0m\u001b[0;34m,\u001b[0m\u001b[0;34m\u001b[0m\u001b[0;34m\u001b[0m\u001b[0m\n\u001b[1;32m   1111\u001b[0m         \u001b[0mdistribution_strategy\u001b[0m\u001b[0;34m=\u001b[0m\u001b[0mds_context\u001b[0m\u001b[0;34m.\u001b[0m\u001b[0mget_strategy\u001b[0m\u001b[0;34m(\u001b[0m\u001b[0;34m)\u001b[0m\u001b[0;34m,\u001b[0m\u001b[0;34m\u001b[0m\u001b[0;34m\u001b[0m\u001b[0m\n\u001b[0;32m-> 1112\u001b[0;31m         model=model)\n\u001b[0m\u001b[1;32m   1113\u001b[0m \u001b[0;34m\u001b[0m\u001b[0m\n\u001b[1;32m   1114\u001b[0m     \u001b[0mstrategy\u001b[0m \u001b[0;34m=\u001b[0m \u001b[0mds_context\u001b[0m\u001b[0;34m.\u001b[0m\u001b[0mget_strategy\u001b[0m\u001b[0;34m(\u001b[0m\u001b[0;34m)\u001b[0m\u001b[0;34m\u001b[0m\u001b[0;34m\u001b[0m\u001b[0m\n",
            "\u001b[0;32m/usr/local/lib/python3.6/dist-packages/tensorflow/python/keras/engine/data_adapter.py\u001b[0m in \u001b[0;36m__init__\u001b[0;34m(self, x, y, sample_weights, sample_weight_modes, batch_size, epochs, steps, shuffle, **kwargs)\u001b[0m\n\u001b[1;32m    280\u001b[0m             label, \", \".join(str(i.shape[0]) for i in nest.flatten(data)))\n\u001b[1;32m    281\u001b[0m       \u001b[0mmsg\u001b[0m \u001b[0;34m+=\u001b[0m \u001b[0;34m\"Please provide data which shares the same first dimension.\"\u001b[0m\u001b[0;34m\u001b[0m\u001b[0;34m\u001b[0m\u001b[0m\n\u001b[0;32m--> 282\u001b[0;31m       \u001b[0;32mraise\u001b[0m \u001b[0mValueError\u001b[0m\u001b[0;34m(\u001b[0m\u001b[0mmsg\u001b[0m\u001b[0;34m)\u001b[0m\u001b[0;34m\u001b[0m\u001b[0;34m\u001b[0m\u001b[0m\n\u001b[0m\u001b[1;32m    283\u001b[0m     \u001b[0mnum_samples\u001b[0m \u001b[0;34m=\u001b[0m \u001b[0mnum_samples\u001b[0m\u001b[0;34m.\u001b[0m\u001b[0mpop\u001b[0m\u001b[0;34m(\u001b[0m\u001b[0;34m)\u001b[0m\u001b[0;34m\u001b[0m\u001b[0;34m\u001b[0m\u001b[0m\n\u001b[1;32m    284\u001b[0m \u001b[0;34m\u001b[0m\u001b[0m\n",
            "\u001b[0;31mValueError\u001b[0m: Data cardinality is ambiguous:\n  x sizes: 3297\n  y sizes: 5435\nPlease provide data which shares the same first dimension."
          ]
        }
      ]
    },
    {
      "cell_type": "code",
      "metadata": {
        "id": "VsBav7BWqMvh",
        "colab_type": "code",
        "outputId": "34c7b33b-c185-49eb-e509-b943832ad559",
        "colab": {
          "base_uri": "https://localhost:8080/",
          "height": 513
        }
      },
      "source": [
        "#Evaluating Accuracy and Loss of the model\n",
        "%matplotlib inline\n",
        "acc3=history3.history['accuracy']\n",
        "val_acc3=history3.history['val_accuracy']\n",
        "loss3=history3.history['loss']\n",
        "val_loss3=history3.history['val_loss']\n",
        "\n",
        "epochs=range(len(acc)) #No. of epochs\n",
        "\n",
        "#Plot training and validation accuracy per epoch\n",
        "import matplotlib.pyplot as plt\n",
        "plt.plot(epochs,acc3,'b',label='Training Accuracy')\n",
        "plt.plot(epochs,val_acc3,'r',label='Validation Accuracy')\n",
        "plt.legend()\n",
        "plt.figure()\n",
        "\n",
        "#Plot training and validation loss per epoch\n",
        "plt.plot(epochs,loss3,'b',label='Training Loss')\n",
        "plt.plot(epochs,val_loss3,'r',label='Validation Loss')\n",
        "plt.legend()\n",
        "plt.show()"
      ],
      "execution_count": 0,
      "outputs": [
        {
          "output_type": "display_data",
          "data": {
            "image/png": "[encoded data removed]",
            "text/plain": [
              "<Figure size 432x288 with 1 Axes>"
            ]
          },
          "metadata": {
            "tags": [],
            "needs_background": "light"
          }
        },
        {
          "output_type": "display_data",
          "data": {
            "image/png": "[encoded data removed]",
            "text/plain": [
              "<Figure size 432x288 with 1 Axes>"
            ]
          },
          "metadata": {
            "tags": [],
            "needs_background": "light"
          }
        }
      ]
    },
    {
      "cell_type": "code",
      "metadata": {
        "id": "OiVCLlL-ejFZ",
        "colab_type": "code",
        "outputId": "b0b46f12-75a2-49e7-c882-767dd033fecf",
        "colab": {
          "base_uri": "https://localhost:8080/",
          "height": 265
        }
      },
      "source": [
        "#ACCURACY GRAPH\n",
        "\n",
        "#Evaluating Accuracy and Loss of the model\n",
        "%matplotlib inline\n",
        "acc=history.history['accuracy']\n",
        "val_acc=history.history['val_accuracy']\n",
        "acc1=history1.history['accuracy']\n",
        "val_acc1=history1.history['val_accuracy']\n",
        "acc2=history2.history['accuracy']\n",
        "val_acc2=history2.history['val_accuracy']\n",
        "acc3=history3.history['accuracy']\n",
        "val_acc3=history3.history['val_accuracy']\n",
        "\n",
        "\n",
        "epochs=range(len(acc)) #No. of epochs\n",
        "\n",
        "#Plot training and validation accuracy per epoch\n",
        "import matplotlib.pyplot as plt\n",
        "#plt.plot(epochs,acc3,'b',label='Training Accuracy')\n",
        "plt.plot(epochs,val_acc,'r',label='Validation Accuracy of ANN')\n",
        "\n",
        "#plt.plot(epochs,acc3,'b',label='Training Accuracy')\n",
        "plt.plot(epochs,val_acc1,'b',label='Validation Accuracy of dilated(2) CNN')\n",
        "\n",
        "#plt.plot(epochs,acc3,'b',label='Training Accuracy')\n",
        "plt.plot(epochs,val_acc2,'g',label='Validation Accuracy of dilated(3) CNN')\n",
        "\n",
        "#plt.plot(epochs,acc3,'b',label='Training Accuracy')\n",
        "plt.plot(epochs,val_acc3,'y',label='Validation Accuracy of CNN')\n",
        "\n",
        "\n",
        "plt.legend()\n",
        "plt.show()"
      ],
      "execution_count": 0,
      "outputs": [
        {
          "output_type": "display_data",
          "data": {
            "image/png": "[encoded data removed]",
            "text/plain": [
              "<Figure size 432x288 with 1 Axes>"
            ]
          },
          "metadata": {
            "tags": [],
            "needs_background": "light"
          }
        }
      ]
    },
    {
      "cell_type": "code",
      "metadata": {
        "id": "jlzwY_U6mJco",
        "colab_type": "code",
        "outputId": "918fd6fb-30de-47be-97c5-fd1821e69af8",
        "colab": {
          "base_uri": "https://localhost:8080/",
          "height": 266
        }
      },
      "source": [
        "#LOSS GRAPG\n",
        "#Evaluating Accuracy and Loss of the model\n",
        "%matplotlib inline\n",
        "loss=history.history['loss']\n",
        "val_loss=history.history['val_loss']\n",
        "\n",
        "loss1=history1.history['loss']\n",
        "val_loss1=history1.history['val_loss']\n",
        "\n",
        "loss2=history2.history['loss']\n",
        "val_loss2=history2.history['val_loss']\n",
        "\n",
        "loss3=history3.history['loss']\n",
        "val_loss3=history3.history['val_loss']\n",
        "\n",
        "epochs=range(len(acc)) #No. of epochs\n",
        "\n",
        "#Plot training and validation accuracy per epoch\n",
        "import matplotlib.pyplot as plt\n",
        "\n",
        "\n",
        "\n",
        "#Plot training and validation loss per epoch\n",
        "#plt.plot(epochs,loss,'b',label='Training Loss')\n",
        "plt.plot(epochs,val_loss,'r',label='Validation Loss of ANN')\n",
        "\n",
        "#plt.plot(epochs,loss1,'b',label='Training Loss')\n",
        "plt.plot(epochs,val_loss1,'b',label='Validation Loss of dilated(2) CNN')\n",
        "\n",
        "#plt.plot(epochs,loss2,'b',label='Training Loss')\n",
        "plt.plot(epochs,val_loss2,'g',label='Validation Loss of dilated(3) CNN')\n",
        "\n",
        "#plt.plot(epochs,loss3,'b',label='Training Loss')\n",
        "plt.plot(epochs,val_loss3,'y',label='Validation Loss of CNN')\n",
        "plt.legend()\n",
        "plt.show()\n"
      ],
      "execution_count": 0,
      "outputs": [
        {
          "output_type": "display_data",
          "data": {
            "image/png": "[encoded data removed]",
            "text/plain": [
              "<Figure size 432x288 with 1 Axes>"
            ]
          },
          "metadata": {
            "tags": [],
            "needs_background": "light"
          }
        }
      ]
    },
    {
      "cell_type": "code",
      "metadata": {
        "id": "QXefJFmb3dfH",
        "colab_type": "code",
        "colab": {}
      },
      "source": [
        ""
      ],
      "execution_count": 0,
      "outputs": []
    }
  ]
}